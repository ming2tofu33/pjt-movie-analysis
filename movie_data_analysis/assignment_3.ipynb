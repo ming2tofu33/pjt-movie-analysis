{
 "cells": [
  {
   "cell_type": "markdown",
   "id": "71e306ad",
   "metadata": {},
   "source": [
    "# **MOVIE_DATA_ANALYSIS🎥🎬🎞️🍿**\n",
    "\n",
    "## **과제 3️⃣**\n",
    "### 배우/감독 네트워크 분석 및 성공 패턴 발견\n",
    "\n",
    "#### 주요 배우와 감독들의 협업 관계를 네트워크로 시각화하고, 성공적인 콜라보레이션 패턴을 발견하여 캐스팅 전략에 대한 인사이트를 도출하세요."
   ]
  }
 ],
 "metadata": {
  "language_info": {
   "name": "python"
  }
 },
 "nbformat": 4,
 "nbformat_minor": 5
}
