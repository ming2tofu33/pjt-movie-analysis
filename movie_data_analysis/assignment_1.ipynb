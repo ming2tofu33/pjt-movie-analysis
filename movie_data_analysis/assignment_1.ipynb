{
 "cells": [
  {
   "cell_type": "markdown",
   "id": "c3934a1d",
   "metadata": {},
   "source": [
    "# MOVIE_DATA_ANALYSIS🎥🎬🎞️🍿\n",
    "\n",
    "## 과제 🔥\n",
    "### 장르별 영화 트렌드 및 흥행 성공 요인 분석\n",
    "\n",
    "#### 최근 20년간 영화 장르별 트렌드 변화를 분석하고, 각 장르에서 흥행에 성공한 영화들의 공통 요소(예산, 런타임, 출연진, 개봉 시기 등)를 파악하세요."
   ]
  }
 ],
 "metadata": {
  "language_info": {
   "name": "python"
  }
 },
 "nbformat": 4,
 "nbformat_minor": 5
}
