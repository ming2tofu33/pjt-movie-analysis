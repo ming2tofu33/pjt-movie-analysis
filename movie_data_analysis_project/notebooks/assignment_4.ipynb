{
 "cells": [
  {
   "cell_type": "markdown",
   "id": "a69f371d",
   "metadata": {},
   "source": [
    "# **MOVIE_DATA_ANALYSIS🎥🎬🎞️🍿**\n",
    "\n",
    "## **과제 4️⃣**\n",
    "### 자유 주제\n",
    "#### 영화 산업의 미래를 예측할 수 있는 새로운 관점에서 데이터를 분석하고, 영화 제작사나 투자자에게 유용한 인사이트를 자유롭게 제시하세요."
   ]
  }
 ],
 "metadata": {
  "language_info": {
   "name": "python"
  }
 },
 "nbformat": 4,
 "nbformat_minor": 5
}
