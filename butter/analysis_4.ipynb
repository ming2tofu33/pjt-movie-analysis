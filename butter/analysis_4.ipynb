{
 "cells": [
  {
   "cell_type": "markdown",
   "id": "e802061f",
   "metadata": {},
   "source": [
    "# **MOVIE_DATA_ANALYSIS🎥🎬🎞️🍿**\n",
    "\n",
    "## **과제 4️⃣**\n",
    "### 자유 주제\n",
    "#### 영화 산업의 미래를 예측할 수 있는 새로운 관점에서 데이터를 분석하고, 영화 제작사나 투자자에게 유용한 인사이트를 자유롭게 제시하세요."
   ]
  },
  {
   "cell_type": "code",
   "execution_count": null,
   "id": "60b611f7",
   "metadata": {},
   "outputs": [],
   "source": []
  }
 ],
 "metadata": {
  "kernelspec": {
   "display_name": "venv",
   "language": "python",
   "name": "python3"
  },
  "language_info": {
   "name": "python",
   "version": "3.13.2"
  }
 },
 "nbformat": 4,
 "nbformat_minor": 5
}
