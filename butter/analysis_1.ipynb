{
 "cells": [
  {
   "cell_type": "markdown",
   "id": "79a1be71",
   "metadata": {},
   "source": [
    "# **MOVIE_DATA_ANALYSIS🎥🎬🎞️🍿**\n",
    "\n",
    "## **과제 1️⃣**\n",
    "### 장르별 영화 트렌드 및 흥행 성공 요인 분석\n",
    "\n",
    "#### 최근 20년간 영화 장르별 트렌드 변화를 분석하고, 각 장르에서 흥행에 성공한 영화들의 공통 요소(예산, 런타임, 출연진, 개봉 시기 등)를 파악하세요."
   ]
  },
  {
   "cell_type": "markdown",
   "id": "0c90ace7",
   "metadata": {},
   "source": [
    "#### **영화 장르별 트렌드 변화 분석 및 시각화**"
   ]
  },
  {
   "cell_type": "code",
   "execution_count": null,
   "id": "ad199f5a",
   "metadata": {},
   "outputs": [],
   "source": []
  },
  {
   "cell_type": "markdown",
   "id": "d926b43f",
   "metadata": {},
   "source": [
    "#### **장르별 순수익 기준 상위 3개 영화**"
   ]
  },
  {
   "cell_type": "code",
   "execution_count": null,
   "id": "af825356",
   "metadata": {},
   "outputs": [],
   "source": []
  }
 ],
 "metadata": {
  "kernelspec": {
   "display_name": "venv",
   "language": "python",
   "name": "python3"
  },
  "language_info": {
   "name": "python",
   "version": "3.13.2"
  }
 },
 "nbformat": 4,
 "nbformat_minor": 5
}
