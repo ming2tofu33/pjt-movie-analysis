{
 "cells": [
  {
   "cell_type": "markdown",
   "id": "1b96f227",
   "metadata": {},
   "source": [
    "# **MOVIE_DATA_ANALYSIS🎥🎬🎞️🍿**\n",
    "\n",
    "## **과제 2️⃣**\n",
    "### 영화 평점과 흥행 수익 간의 상관관계 분석 \n",
    "\n",
    "#### 사용자 평점, 비평가 평점, 박스오피스 수익 간의 관계를 분석하고, 평점이 높지만 흥행하지 못한 영화와 평점은 낮지만 흥행한 영화들의 특성을 비교 분석하세요."
   ]
  }
 ],
 "metadata": {
  "language_info": {
   "name": "python"
  }
 },
 "nbformat": 4,
 "nbformat_minor": 5
}
