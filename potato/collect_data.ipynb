{
 "cells": [
  {
   "cell_type": "code",
   "execution_count": 2,
   "id": "a7418796",
   "metadata": {},
   "outputs": [
    {
     "name": "stdout",
     "output_type": "stream",
     "text": [
      "✅API KEY and TOKEN are set!\n"
     ]
    }
   ],
   "source": [
    "import os\n",
    "\n",
    "# pip install python-dotenv\n",
    "from dotenv import load_dotenv\n",
    "\n",
    "load_dotenv()\n",
    "\n",
    "TMDB_API_KEY = os.getenv('TMDB_API_KEY')\n",
    "TMDB_API_TOKEN = os.getenv('TMDB_API_TOKEN')\n",
    "\n",
    "if TMDB_API_KEY and TMDB_API_TOKEN:\n",
    "    print('✅API KEY and TOKEN are set!')\n",
    "else:\n",
    "    print('❌API KEY and TOKEN 404')"
   ]
  },
  {
   "cell_type": "code",
   "execution_count": 7,
   "id": "bce8e65a",
   "metadata": {},
   "outputs": [
    {
     "name": "stdout",
     "output_type": "stream",
     "text": [
      "\n",
      "--- 2005년 영화 데이터를 수집 중입니다. ---\n",
      "\n",
      "--- 2006년 영화 데이터를 수집 중입니다. ---\n",
      "\n",
      "--- 2007년 영화 데이터를 수집 중입니다. ---\n",
      "\n",
      "--- 2008년 영화 데이터를 수집 중입니다. ---\n",
      "\n",
      "--- 2009년 영화 데이터를 수집 중입니다. ---\n",
      "\n",
      "--- 2010년 영화 데이터를 수집 중입니다. ---\n",
      "\n",
      "--- 2011년 영화 데이터를 수집 중입니다. ---\n",
      "\n",
      "--- 2012년 영화 데이터를 수집 중입니다. ---\n",
      "\n",
      "--- 2013년 영화 데이터를 수집 중입니다. ---\n",
      "\n",
      "--- 2014년 영화 데이터를 수집 중입니다. ---\n",
      "\n",
      "--- 2015년 영화 데이터를 수집 중입니다. ---\n",
      "\n",
      "--- 2016년 영화 데이터를 수집 중입니다. ---\n",
      "\n",
      "--- 2017년 영화 데이터를 수집 중입니다. ---\n",
      "\n",
      "--- 2018년 영화 데이터를 수집 중입니다. ---\n",
      "\n",
      "--- 2019년 영화 데이터를 수집 중입니다. ---\n",
      "\n",
      "--- 2020년 영화 데이터를 수집 중입니다. ---\n",
      "\n",
      "--- 2021년 영화 데이터를 수집 중입니다. ---\n",
      "\n",
      "--- 2022년 영화 데이터를 수집 중입니다. ---\n",
      "\n",
      "--- 2023년 영화 데이터를 수집 중입니다. ---\n",
      "\n",
      "--- 2024년 영화 데이터를 수집 중입니다. ---\n",
      "  > 2010년 1/3 페이지 영화 20개 작업 등록 완료\n",
      "  > 2022년 1/3 페이지 영화 20개 작업 등록 완료\n",
      "  > 2013년 1/4 페이지 영화 20개 작업 등록 완료\n",
      "  > 2008년 1/3 페이지 영화 20개 작업 등록 완료\n",
      "  > 2009년 1/3 페이지 영화 20개 작업 등록 완료\n",
      "  > 2017년 1/5 페이지 영화 20개 작업 등록 완료\n",
      "  > 2015년 1/4 페이지 영화 20개 작업 등록 완료\n",
      "  > 2019년 1/5 페이지 영화 20개 작업 등록 완료\n",
      "  > 2005년 1/3 페이지 영화 20개 작업 등록 완료\n",
      "  > 2020년 1/4 페이지 영화 20개 작업 등록 완료\n",
      "  > 2012년 1/3 페이지 영화 20개 작업 등록 완료\n",
      "  > 2016년 1/4 페이지 영화 20개 작업 등록 완료\n",
      "  > 2014년 1/4 페이지 영화 20개 작업 등록 완료\n",
      "  > 2024년 1/3 페이지 영화 20개 작업 등록 완료\n",
      "  > 2023년 1/3 페이지 영화 20개 작업 등록 완료\n",
      "  > 2021년 1/3 페이지 영화 20개 작업 등록 완료\n",
      "  > 2011년 1/3 페이지 영화 20개 작업 등록 완료\n",
      "  > 2018년 1/4 페이지 영화 20개 작업 등록 완료\n",
      "  > 2006년 1/3 페이지 영화 20개 작업 등록 완료\n",
      "  > 2007년 1/3 페이지 영화 20개 작업 등록 완료\n",
      "  > 2010년 2/3 페이지 영화 20개 작업 등록 완료\n",
      "  > 2022년 2/3 페이지 영화 20개 작업 등록 완료\n",
      "  > 2013년 2/4 페이지 영화 20개 작업 등록 완료\n",
      "  > 2017년 2/5 페이지 영화 20개 작업 등록 완료\n",
      "  > 2019년 2/5 페이지 영화 20개 작업 등록 완료\n",
      "  > 2008년 2/3 페이지 영화 20개 작업 등록 완료\n",
      "  > 2015년 2/4 페이지 영화 20개 작업 등록 완료\n",
      "  > 2009년 2/3 페이지 영화 20개 작업 등록 완료\n",
      "  > 2016년 2/4 페이지 영화 20개 작업 등록 완료\n",
      "  > 2024년 2/3 페이지 영화 20개 작업 등록 완료\n",
      "  > 2014년 2/4 페이지 영화 20개 작업 등록 완료\n",
      "  > 2005년 2/3 페이지 영화 20개 작업 등록 완료\n",
      "  > 2012년 2/3 페이지 영화 20개 작업 등록 완료\n",
      "  > 2023년 2/3 페이지 영화 20개 작업 등록 완료\n",
      "  > 2020년 2/4 페이지 영화 20개 작업 등록 완료\n",
      "  > 2021년 2/3 페이지 영화 20개 작업 등록 완료\n",
      "  > 2011년 2/3 페이지 영화 20개 작업 등록 완료\n",
      "  > 2018년 2/4 페이지 영화 20개 작업 등록 완료\n",
      "  > 2007년 2/3 페이지 영화 20개 작업 등록 완료\n",
      "  > 2006년 2/3 페이지 영화 20개 작업 등록 완료\n",
      "  > 2010년 3/3 페이지 영화 12개 작업 등록 완료\n",
      "  > 2022년 3/3 페이지 영화 16개 작업 등록 완료\n",
      "  > 2008년 3/3 페이지 영화 7개 작업 등록 완료\n",
      "  > 2016년 3/4 페이지 영화 20개 작업 등록 완료\n",
      "  > 2024년 3/3 페이지 영화 2개 작업 등록 완료\n",
      "  > 2015년 3/4 페이지 영화 20개 작업 등록 완료\n",
      "  > 2017년 3/5 페이지 영화 20개 작업 등록 완료\n",
      "  > 2013년 3/4 페이지 영화 20개 작업 등록 완료\n",
      "  > 2005년 3/3 페이지 영화 9개 작업 등록 완료\n",
      "  > 2009년 3/3 페이지 영화 11개 작업 등록 완료\n",
      "  > 2019년 3/5 페이지 영화 20개 작업 등록 완료\n",
      "  > 2014년 3/4 페이지 영화 20개 작업 등록 완료\n",
      "  > 2018년 3/4 페이지 영화 20개 작업 등록 완료\n",
      "  > 2023년 3/3 페이지 영화 12개 작업 등록 완료\n",
      "  > 2011년 3/3 페이지 영화 16개 작업 등록 완료\n",
      "  > 2012년 3/3 페이지 영화 12개 작업 등록 완료\n",
      "  > 2021년 3/3 페이지 영화 11개 작업 등록 완료\n",
      "  > 2020년 3/4 페이지 영화 20개 작업 등록 완료\n",
      "  > 2007년 3/3 페이지 영화 5개 작업 등록 완료\n",
      "  > 2006년 3/3 페이지 영화 18개 작업 등록 완료\n",
      "  > 2016년 4/4 페이지 영화 15개 작업 등록 완료\n",
      "  > 2015년 4/4 페이지 영화 15개 작업 등록 완료\n",
      "  > 2013년 4/4 페이지 영화 4개 작업 등록 완료\n",
      "  > 2019년 4/5 페이지 영화 20개 작업 등록 완료\n",
      "  > 2017년 4/5 페이지 영화 20개 작업 등록 완료\n",
      "  > 2014년 4/4 페이지 영화 7개 작업 등록 완료\n",
      "  > 2020년 4/4 페이지 영화 12개 작업 등록 완료\n",
      "  > 2018년 4/4 페이지 영화 10개 작업 등록 완료\n",
      "  > 2017년 5/5 페이지 영화 1개 작업 등록 완료\n",
      "  > 2019년 5/5 페이지 영화 2개 작업 등록 완료\n",
      "\n",
      "--- 모든 데이터 수집 및 저장 완료 ---\n",
      "총 1197개 영화의 데이터가 'korean_movies_2005_2024_theatrical_full.csv' 파일에 저장되었습니다.\n",
      "총 소요 시간: 6.72초\n"
     ]
    }
   ],
   "source": [
    "import asyncio\n",
    "import aiohttp\n",
    "import pandas as pd\n",
    "import os\n",
    "import time\n",
    "import nest_asyncio\n",
    "\n",
    "# 주피터 노트북 환경에서 비동기 충돌을 해결합니다.\n",
    "nest_asyncio.apply()\n",
    "\n",
    "# TMDB API 토큰을 환경 변수에서 불러옵니다.\n",
    "# 'TMDB_API_TOKEN'이라는 환경 변수에 여러분의 API 토큰을 설정해야 합니다.\n",
    "TMDB_API_TOKEN = os.environ.get('TMDB_API_TOKEN')\n",
    "\n",
    "# API 요청에 필요한 헤더\n",
    "headers = {\n",
    "    \"accept\": \"application/json\",\n",
    "    \"Authorization\": f\"Bearer {TMDB_API_TOKEN}\"\n",
    "}\n",
    "\n",
    "# 모든 영화 데이터를 담을 빈 리스트\n",
    "all_movie_data = []\n",
    "\n",
    "# 동시 API 요청 수를 제한합니다.\n",
    "# 이 값을 너무 크게 설정하면 'too many file descriptors' 오류가 발생할 수 있습니다.\n",
    "# 50으로 줄이면 안정성이 높아집니다.\n",
    "CONCURRENT_REQUESTS = 50\n",
    "semaphore = asyncio.Semaphore(CONCURRENT_REQUESTS)\n",
    "\n",
    "# 재시도 횟수\n",
    "MAX_RETRIES = 5\n",
    "\n",
    "async def fetch_movie_details(session, movie_id):\n",
    "    \"\"\"\n",
    "    비동기적으로 단일 영화의 상세 정보를 가져오는 함수 (재시도 로직 포함)\n",
    "    \"\"\"\n",
    "    # 세마포어를 사용하여 동시 요청 수를 제어합니다.\n",
    "    async with semaphore:\n",
    "        url_details = f\"https://api.themoviedb.org/3/movie/{movie_id}\"\n",
    "        \n",
    "        for retry in range(MAX_RETRIES):\n",
    "            try:\n",
    "                async with session.get(url_details, headers=headers) as detail_response:\n",
    "                    if detail_response.status == 200:\n",
    "                        details = await detail_response.json()\n",
    "                        movie_data = {\n",
    "                            'id': details.get('id'),\n",
    "                            'title': details.get('original_title'), # 'title' 대신 'original_title' 사용\n",
    "                            'release_date': details.get('release_date'),\n",
    "                            'budget': details.get('budget'),\n",
    "                            'revenue': details.get('revenue'),\n",
    "                            'runtime': details.get('runtime'),\n",
    "                            'vote_average': details.get('vote_average')\n",
    "                        }\n",
    "                        return movie_data\n",
    "                    elif detail_response.status == 429:\n",
    "                        print(f\"상세 정보 요청 실패: 429 (ID: {movie_id}), API 제한 초과! 60초 대기 후 재시도...\")\n",
    "                        await asyncio.sleep(60) # 429 오류는 1분간 대기\n",
    "                        continue\n",
    "                    else:\n",
    "                        print(f\"상세 정보 요청 실패: {detail_response.status} (ID: {movie_id}), 재시도 중... ({retry + 1}/{MAX_RETRIES})\")\n",
    "                        await asyncio.sleep(2 ** retry) # 지수 백오프: 1, 2, 4, 8초 대기\n",
    "            except aiohttp.ClientError as e:\n",
    "                print(f\"API 요청 중 오류 발생: {e}, 재시도 중... ({retry + 1}/{MAX_RETRIES})\")\n",
    "                await asyncio.sleep(2 ** retry)\n",
    "        \n",
    "        # 모든 재시도가 실패했을 경우\n",
    "        print(f\"최종 실패: {movie_id} 영화 정보를 가져올 수 없습니다.\")\n",
    "        return None\n",
    "\n",
    "async def fetch_movies_by_year(year):\n",
    "    \"\"\"\n",
    "    비동기적으로 특정 연도의 모든 영화 데이터를 가져오는 함수\n",
    "    \"\"\"\n",
    "    print(f\"\\n--- {year}년 영화 데이터를 수집 중입니다. ---\")\n",
    "    \n",
    "    # discover/movie 엔드포인트를 위한 파라미터 설정\n",
    "    params = {\n",
    "        'language': 'ko-KR',\n",
    "        'region': 'KR',\n",
    "        'sort_by': 'popularity.desc',\n",
    "        'primary_release_year': year,\n",
    "        'page': 1,\n",
    "        'vote_count.gte': 10,\n",
    "        'include_adult': 'false', \n",
    "        'with_origin_country': 'KR', # 한국에서 제작한 영화만 포함 (이 필터를 다시 추가)\n",
    "        'with_release_type': '2|3', # 제한적 개봉과 일반 개봉을 모두 포함\n",
    "    }\n",
    "    \n",
    "    tasks = []\n",
    "    \n",
    "    async with aiohttp.ClientSession(headers=headers) as session:\n",
    "        # 첫 페이지에서 전체 페이지 수 가져오기\n",
    "        response = await session.get(\"https://api.themoviedb.org/3/discover/movie\", params=params)\n",
    "        data = await response.json()\n",
    "        total_pages = data.get('total_pages', 1)\n",
    "\n",
    "        # 각 페이지별로 영화 ID 가져오기\n",
    "        for page in range(1, total_pages + 1):\n",
    "            params['page'] = page\n",
    "            response = await session.get(\"https://api.themoviedb.org/3/discover/movie\", params=params)\n",
    "            data = await response.json()\n",
    "            movie_ids = [movie['id'] for movie in data.get('results', [])]\n",
    "            \n",
    "            # 각 영화 ID에 대한 상세 정보 요청 작업을 생성\n",
    "            for movie_id in movie_ids:\n",
    "                task = asyncio.create_task(fetch_movie_details(session, movie_id))\n",
    "                tasks.append(task)\n",
    "            print(f\"  > {year}년 {page}/{total_pages} 페이지 영화 {len(movie_ids)}개 작업 등록 완료\")\n",
    "            \n",
    "        # 모든 비동기 작업이 완료될 때까지 기다림\n",
    "        results = await asyncio.gather(*tasks)\n",
    "        \n",
    "        # 유효한 데이터만 필터링하여 리스트에 추가\n",
    "        for movie_data in results:\n",
    "            if movie_data:\n",
    "                all_movie_data.append(movie_data)\n",
    "\n",
    "async def main():\n",
    "    \"\"\"\n",
    "    메인 함수: 2005년부터 2024년까지 비동기 수집을 시작합니다.\n",
    "    \"\"\"\n",
    "    start_time = time.time()\n",
    "    await asyncio.gather(*(fetch_movies_by_year(year) for year in range(2005, 2025)))\n",
    "    \n",
    "    # 모든 데이터를 pandas DataFrame으로 변환\n",
    "    df = pd.DataFrame(all_movie_data)\n",
    "    \n",
    "    # 'release_date' 열을 날짜/시간 형식으로 변환하여 올바르게 정렬\n",
    "    df['release_date'] = pd.to_datetime(df['release_date'])\n",
    "    # 'release_date'를 기준으로 오름차순 정렬\n",
    "    df = df.sort_values(by='release_date')\n",
    "    \n",
    "    # DataFrame을 CSV 파일로 저장 (한글 깨짐 방지)\n",
    "    df.to_csv(\"korean_movies_2005_2024_theatrical_full.csv\", index=False, encoding='utf-8-sig')\n",
    "    \n",
    "    end_time = time.time()\n",
    "    elapsed_time = end_time - start_time\n",
    "    \n",
    "    print(\"\\n--- 모든 데이터 수집 및 저장 완료 ---\")\n",
    "    print(f\"총 {len(df)}개 영화의 데이터가 'korean_movies_2005_2024_theatrical_full.csv' 파일에 저장되었습니다.\")\n",
    "    print(f\"총 소요 시간: {elapsed_time:.2f}초\")\n",
    "\n",
    "if __name__ == \"__main__\":\n",
    "    await main()\n"
   ]
  },
  {
   "cell_type": "code",
   "execution_count": 5,
   "id": "f6997809",
   "metadata": {},
   "outputs": [
    {
     "name": "stdout",
     "output_type": "stream",
     "text": [
      "연도별 후보 수집(서버 한국코드 우선)…\n",
      "✅ 한국 코드 발견 (comCode=220310): 22041011\n",
      "  · 2005: mode=KCODE , collected(K-only)=   82\n",
      "  · 2006: mode=KCODE , collected(K-only)=  117\n",
      "  · 2007: mode=KCODE , collected(K-only)=  139\n",
      "  · 2008: mode=KCODE , collected(K-only)=  157\n",
      "  · 2009: mode=KCODE , collected(K-only)=  123\n",
      "  · 2010: mode=KCODE , collected(K-only)=  155\n",
      "  · 2011: mode=KCODE , collected(K-only)=  168\n",
      "  · 2012: mode=KCODE , collected(K-only)=  177\n",
      "  · 2013: mode=KCODE , collected(K-only)=  186\n",
      "  · 2014: mode=KCODE , collected(K-only)=  218\n",
      "  · 2015: mode=KCODE , collected(K-only)=  257\n",
      "  · 2016: mode=KCODE , collected(K-only)=  338\n",
      "  · 2017: mode=KCODE , collected(K-only)=  495\n",
      "  · 2018: mode=KCODE , collected(K-only)=  661\n",
      "  · 2019: mode=KCODE , collected(K-only)=  697\n",
      "  · 2020: mode=KCODE , collected(K-only)=  782\n",
      "  · 2021: mode=KCODE , collected(K-only)=  818\n",
      "  · 2022: mode=KCODE , collected(K-only)=  772\n",
      "  · 2023: mode=KCODE , collected(K-only)=  665\n",
      "  · 2024: mode=KCODE , collected(K-only)=  618\n",
      "  · 2025: mode=KCODE , collected(K-only)=  349\n",
      "📄 후보 저장(한국만): ./data_processed/kofic_candidates_kr_2005_2025.csv (고유 7,974편)\n",
      "📄 후보 로드: ./data_processed/kofic_candidates_kr_2005_2025.csv (rows=7,974)\n"
     ]
    },
    {
     "name": "stderr",
     "output_type": "stream",
     "text": [
      "Detail + domestic totals:  27%|██▋       | 2138/7974 [32:53<3:28:27,  2.14s/it] "
     ]
    },
    {
     "name": "stdout",
     "output_type": "stream",
     "text": [
      "❌ Request failed: KOBIS fault: 키의 하루 이용량을 초과하였습니다. (code=320011)\n",
      "URL: https://www.kobis.or.kr/kobisopenapi/webservice/rest/boxoffice/searchWeeklyBoxOfficeList.json?key=a3c5aea7d99b9dca621b49723c85b8e3&targetDt=20170604&weekGb=0 \n",
      "URL: https://www.kobis.or.kr/kobisopenapi/webservice/rest/boxoffice/searchWeeklyBoxOfficeList.json?key=a3c5aea7d99b9dca621b49723c85b8e3&targetDt=20170604&weekGb=0\n"
     ]
    },
    {
     "name": "stderr",
     "output_type": "stream",
     "text": [
      "Detail + domestic totals:  27%|██▋       | 2139/7974 [32:56<4:09:03,  2.56s/it]"
     ]
    },
    {
     "name": "stdout",
     "output_type": "stream",
     "text": [
      "❌ Request failed: KOBIS fault: 키의 하루 이용량을 초과하였습니다. (code=320011)\n",
      "URL: https://www.kobis.or.kr/kobisopenapi/webservice/rest/movie/searchMovieInfo.json?key=a3c5aea7d99b9dca621b49723c85b8e3&movieCd=20173251 \n",
      "URL: https://www.kobis.or.kr/kobisopenapi/webservice/rest/movie/searchMovieInfo.json?key=a3c5aea7d99b9dca621b49723c85b8e3&movieCd=20173251\n"
     ]
    },
    {
     "name": "stderr",
     "output_type": "stream",
     "text": [
      "Detail + domestic totals:  27%|██▋       | 2140/7974 [33:00<4:37:30,  2.85s/it]"
     ]
    },
    {
     "name": "stdout",
     "output_type": "stream",
     "text": [
      "❌ Request failed: KOBIS fault: 키의 하루 이용량을 초과하였습니다. (code=320011)\n",
      "URL: https://www.kobis.or.kr/kobisopenapi/webservice/rest/movie/searchMovieInfo.json?key=a3c5aea7d99b9dca621b49723c85b8e3&movieCd=20174562 \n",
      "URL: https://www.kobis.or.kr/kobisopenapi/webservice/rest/movie/searchMovieInfo.json?key=a3c5aea7d99b9dca621b49723c85b8e3&movieCd=20174562\n"
     ]
    },
    {
     "name": "stderr",
     "output_type": "stream",
     "text": [
      "Detail + domestic totals:  27%|██▋       | 2141/7974 [33:03<4:59:25,  3.08s/it]"
     ]
    },
    {
     "name": "stdout",
     "output_type": "stream",
     "text": [
      "❌ Request failed: KOBIS fault: 키의 하루 이용량을 초과하였습니다. (code=320011)\n",
      "URL: https://www.kobis.or.kr/kobisopenapi/webservice/rest/movie/searchMovieInfo.json?key=a3c5aea7d99b9dca621b49723c85b8e3&movieCd=20171850 \n",
      "URL: https://www.kobis.or.kr/kobisopenapi/webservice/rest/movie/searchMovieInfo.json?key=a3c5aea7d99b9dca621b49723c85b8e3&movieCd=20171850\n"
     ]
    },
    {
     "name": "stderr",
     "output_type": "stream",
     "text": [
      "Detail + domestic totals:  27%|██▋       | 2142/7974 [33:07<5:13:32,  3.23s/it]"
     ]
    },
    {
     "name": "stdout",
     "output_type": "stream",
     "text": [
      "❌ Request failed: KOBIS fault: 키의 하루 이용량을 초과하였습니다. (code=320011)\n",
      "URL: https://www.kobis.or.kr/kobisopenapi/webservice/rest/movie/searchMovieInfo.json?key=a3c5aea7d99b9dca621b49723c85b8e3&movieCd=20179695 \n",
      "URL: https://www.kobis.or.kr/kobisopenapi/webservice/rest/movie/searchMovieInfo.json?key=a3c5aea7d99b9dca621b49723c85b8e3&movieCd=20179695\n"
     ]
    },
    {
     "name": "stderr",
     "output_type": "stream",
     "text": [
      "Detail + domestic totals:  27%|██▋       | 2143/7974 [33:11<5:25:23,  3.35s/it]"
     ]
    },
    {
     "name": "stdout",
     "output_type": "stream",
     "text": [
      "❌ Request failed: KOBIS fault: 키의 하루 이용량을 초과하였습니다. (code=320011)\n",
      "URL: https://www.kobis.or.kr/kobisopenapi/webservice/rest/movie/searchMovieInfo.json?key=a3c5aea7d99b9dca621b49723c85b8e3&movieCd=20175384 \n",
      "URL: https://www.kobis.or.kr/kobisopenapi/webservice/rest/movie/searchMovieInfo.json?key=a3c5aea7d99b9dca621b49723c85b8e3&movieCd=20175384\n"
     ]
    },
    {
     "name": "stderr",
     "output_type": "stream",
     "text": [
      "Detail + domestic totals:  27%|██▋       | 2144/7974 [33:14<5:36:31,  3.46s/it]"
     ]
    },
    {
     "name": "stdout",
     "output_type": "stream",
     "text": [
      "❌ Request failed: KOBIS fault: 키의 하루 이용량을 초과하였습니다. (code=320011)\n",
      "URL: https://www.kobis.or.kr/kobisopenapi/webservice/rest/movie/searchMovieInfo.json?key=a3c5aea7d99b9dca621b49723c85b8e3&movieCd=20179001 \n",
      "URL: https://www.kobis.or.kr/kobisopenapi/webservice/rest/movie/searchMovieInfo.json?key=a3c5aea7d99b9dca621b49723c85b8e3&movieCd=20179001\n"
     ]
    },
    {
     "name": "stderr",
     "output_type": "stream",
     "text": [
      "Detail + domestic totals:  27%|██▋       | 2145/7974 [33:18<5:38:13,  3.48s/it]"
     ]
    },
    {
     "name": "stdout",
     "output_type": "stream",
     "text": [
      "❌ Request failed: KOBIS fault: 키의 하루 이용량을 초과하였습니다. (code=320011)\n",
      "URL: https://www.kobis.or.kr/kobisopenapi/webservice/rest/movie/searchMovieInfo.json?key=a3c5aea7d99b9dca621b49723c85b8e3&movieCd=20170365 \n",
      "URL: https://www.kobis.or.kr/kobisopenapi/webservice/rest/movie/searchMovieInfo.json?key=a3c5aea7d99b9dca621b49723c85b8e3&movieCd=20170365\n"
     ]
    },
    {
     "name": "stderr",
     "output_type": "stream",
     "text": [
      "Detail + domestic totals:  27%|██▋       | 2146/7974 [33:22<5:42:08,  3.52s/it]"
     ]
    },
    {
     "name": "stdout",
     "output_type": "stream",
     "text": [
      "❌ Request failed: KOBIS fault: 키의 하루 이용량을 초과하였습니다. (code=320011)\n",
      "URL: https://www.kobis.or.kr/kobisopenapi/webservice/rest/movie/searchMovieInfo.json?key=a3c5aea7d99b9dca621b49723c85b8e3&movieCd=20160129 \n",
      "URL: https://www.kobis.or.kr/kobisopenapi/webservice/rest/movie/searchMovieInfo.json?key=a3c5aea7d99b9dca621b49723c85b8e3&movieCd=20160129\n"
     ]
    },
    {
     "name": "stderr",
     "output_type": "stream",
     "text": [
      "Detail + domestic totals:  27%|██▋       | 2147/7974 [33:25<5:42:11,  3.52s/it]"
     ]
    },
    {
     "name": "stdout",
     "output_type": "stream",
     "text": [
      "❌ Request failed: KOBIS fault: 키의 하루 이용량을 초과하였습니다. (code=320011)\n",
      "URL: https://www.kobis.or.kr/kobisopenapi/webservice/rest/movie/searchMovieInfo.json?key=a3c5aea7d99b9dca621b49723c85b8e3&movieCd=20175403 \n",
      "URL: https://www.kobis.or.kr/kobisopenapi/webservice/rest/movie/searchMovieInfo.json?key=a3c5aea7d99b9dca621b49723c85b8e3&movieCd=20175403\n"
     ]
    },
    {
     "name": "stderr",
     "output_type": "stream",
     "text": [
      "Detail + domestic totals:  27%|██▋       | 2148/7974 [33:29<5:47:18,  3.58s/it]"
     ]
    },
    {
     "name": "stdout",
     "output_type": "stream",
     "text": [
      "❌ Request failed: KOBIS fault: 키의 하루 이용량을 초과하였습니다. (code=320011)\n",
      "URL: https://www.kobis.or.kr/kobisopenapi/webservice/rest/movie/searchMovieInfo.json?key=a3c5aea7d99b9dca621b49723c85b8e3&movieCd=20170787 \n",
      "URL: https://www.kobis.or.kr/kobisopenapi/webservice/rest/movie/searchMovieInfo.json?key=a3c5aea7d99b9dca621b49723c85b8e3&movieCd=20170787\n"
     ]
    },
    {
     "name": "stderr",
     "output_type": "stream",
     "text": [
      "Detail + domestic totals:  27%|██▋       | 2149/7974 [33:32<5:47:18,  3.58s/it]"
     ]
    },
    {
     "name": "stdout",
     "output_type": "stream",
     "text": [
      "❌ Request failed: KOBIS fault: 키의 하루 이용량을 초과하였습니다. (code=320011)\n",
      "URL: https://www.kobis.or.kr/kobisopenapi/webservice/rest/movie/searchMovieInfo.json?key=a3c5aea7d99b9dca621b49723c85b8e3&movieCd=20170861 \n",
      "URL: https://www.kobis.or.kr/kobisopenapi/webservice/rest/movie/searchMovieInfo.json?key=a3c5aea7d99b9dca621b49723c85b8e3&movieCd=20170861\n"
     ]
    },
    {
     "name": "stderr",
     "output_type": "stream",
     "text": [
      "Detail + domestic totals:  27%|██▋       | 2150/7974 [33:36<5:47:42,  3.58s/it]"
     ]
    },
    {
     "name": "stdout",
     "output_type": "stream",
     "text": [
      "❌ Request failed: KOBIS fault: 키의 하루 이용량을 초과하였습니다. (code=320011)\n",
      "URL: https://www.kobis.or.kr/kobisopenapi/webservice/rest/movie/searchMovieInfo.json?key=a3c5aea7d99b9dca621b49723c85b8e3&movieCd=20178002 \n",
      "URL: https://www.kobis.or.kr/kobisopenapi/webservice/rest/movie/searchMovieInfo.json?key=a3c5aea7d99b9dca621b49723c85b8e3&movieCd=20178002\n"
     ]
    },
    {
     "name": "stderr",
     "output_type": "stream",
     "text": [
      "Detail + domestic totals:  27%|██▋       | 2151/7974 [33:40<5:49:20,  3.60s/it]"
     ]
    },
    {
     "name": "stdout",
     "output_type": "stream",
     "text": [
      "❌ Request failed: KOBIS fault: 키의 하루 이용량을 초과하였습니다. (code=320011)\n",
      "URL: https://www.kobis.or.kr/kobisopenapi/webservice/rest/movie/searchMovieInfo.json?key=a3c5aea7d99b9dca621b49723c85b8e3&movieCd=20177582 \n",
      "URL: https://www.kobis.or.kr/kobisopenapi/webservice/rest/movie/searchMovieInfo.json?key=a3c5aea7d99b9dca621b49723c85b8e3&movieCd=20177582\n"
     ]
    },
    {
     "name": "stderr",
     "output_type": "stream",
     "text": [
      "Detail + domestic totals:  27%|██▋       | 2152/7974 [33:43<5:49:12,  3.60s/it]"
     ]
    },
    {
     "name": "stdout",
     "output_type": "stream",
     "text": [
      "❌ Request failed: KOBIS fault: 키의 하루 이용량을 초과하였습니다. (code=320011)\n",
      "URL: https://www.kobis.or.kr/kobisopenapi/webservice/rest/movie/searchMovieInfo.json?key=a3c5aea7d99b9dca621b49723c85b8e3&movieCd=20170687 \n",
      "URL: https://www.kobis.or.kr/kobisopenapi/webservice/rest/movie/searchMovieInfo.json?key=a3c5aea7d99b9dca621b49723c85b8e3&movieCd=20170687\n"
     ]
    },
    {
     "name": "stderr",
     "output_type": "stream",
     "text": [
      "Detail + domestic totals:  27%|██▋       | 2153/7974 [33:47<5:51:42,  3.63s/it]"
     ]
    },
    {
     "name": "stdout",
     "output_type": "stream",
     "text": [
      "❌ Request failed: KOBIS fault: 키의 하루 이용량을 초과하였습니다. (code=320011)\n",
      "URL: https://www.kobis.or.kr/kobisopenapi/webservice/rest/movie/searchMovieInfo.json?key=a3c5aea7d99b9dca621b49723c85b8e3&movieCd=20170688 \n",
      "URL: https://www.kobis.or.kr/kobisopenapi/webservice/rest/movie/searchMovieInfo.json?key=a3c5aea7d99b9dca621b49723c85b8e3&movieCd=20170688\n"
     ]
    },
    {
     "name": "stderr",
     "output_type": "stream",
     "text": [
      "Detail + domestic totals:  27%|██▋       | 2154/7974 [33:53<7:16:18,  4.50s/it]"
     ]
    },
    {
     "name": "stdout",
     "output_type": "stream",
     "text": [
      "❌ Request failed: KOBIS fault: 키의 하루 이용량을 초과하였습니다. (code=320011)\n",
      "URL: https://www.kobis.or.kr/kobisopenapi/webservice/rest/movie/searchMovieInfo.json?key=a3c5aea7d99b9dca621b49723c85b8e3&movieCd=20176166 \n",
      "URL: https://www.kobis.or.kr/kobisopenapi/webservice/rest/movie/searchMovieInfo.json?key=a3c5aea7d99b9dca621b49723c85b8e3&movieCd=20176166\n"
     ]
    },
    {
     "name": "stderr",
     "output_type": "stream",
     "text": [
      "Detail + domestic totals:  27%|██▋       | 2155/7974 [33:57<6:55:01,  4.28s/it]"
     ]
    },
    {
     "name": "stdout",
     "output_type": "stream",
     "text": [
      "❌ Request failed: KOBIS fault: 키의 하루 이용량을 초과하였습니다. (code=320011)\n",
      "URL: https://www.kobis.or.kr/kobisopenapi/webservice/rest/movie/searchMovieInfo.json?key=a3c5aea7d99b9dca621b49723c85b8e3&movieCd=20179401 \n",
      "URL: https://www.kobis.or.kr/kobisopenapi/webservice/rest/movie/searchMovieInfo.json?key=a3c5aea7d99b9dca621b49723c85b8e3&movieCd=20179401\n"
     ]
    },
    {
     "name": "stderr",
     "output_type": "stream",
     "text": [
      "Detail + domestic totals:  27%|██▋       | 2156/7974 [34:01<6:39:33,  4.12s/it]"
     ]
    },
    {
     "name": "stdout",
     "output_type": "stream",
     "text": [
      "❌ Request failed: KOBIS fault: 키의 하루 이용량을 초과하였습니다. (code=320011)\n",
      "URL: https://www.kobis.or.kr/kobisopenapi/webservice/rest/movie/searchMovieInfo.json?key=a3c5aea7d99b9dca621b49723c85b8e3&movieCd=20176622 \n",
      "URL: https://www.kobis.or.kr/kobisopenapi/webservice/rest/movie/searchMovieInfo.json?key=a3c5aea7d99b9dca621b49723c85b8e3&movieCd=20176622\n"
     ]
    },
    {
     "name": "stderr",
     "output_type": "stream",
     "text": [
      "Detail + domestic totals:  27%|██▋       | 2157/7974 [34:05<6:34:34,  4.07s/it]"
     ]
    },
    {
     "name": "stdout",
     "output_type": "stream",
     "text": [
      "❌ Request failed: KOBIS fault: 키의 하루 이용량을 초과하였습니다. (code=320011)\n",
      "URL: https://www.kobis.or.kr/kobisopenapi/webservice/rest/movie/searchMovieInfo.json?key=a3c5aea7d99b9dca621b49723c85b8e3&movieCd=20176981 \n",
      "URL: https://www.kobis.or.kr/kobisopenapi/webservice/rest/movie/searchMovieInfo.json?key=a3c5aea7d99b9dca621b49723c85b8e3&movieCd=20176981\n"
     ]
    },
    {
     "name": "stderr",
     "output_type": "stream",
     "text": [
      "Detail + domestic totals:  27%|██▋       | 2158/7974 [34:09<6:22:35,  3.95s/it]"
     ]
    },
    {
     "name": "stdout",
     "output_type": "stream",
     "text": [
      "❌ Request failed: KOBIS fault: 키의 하루 이용량을 초과하였습니다. (code=320011)\n",
      "URL: https://www.kobis.or.kr/kobisopenapi/webservice/rest/movie/searchMovieInfo.json?key=a3c5aea7d99b9dca621b49723c85b8e3&movieCd=20176962 \n",
      "URL: https://www.kobis.or.kr/kobisopenapi/webservice/rest/movie/searchMovieInfo.json?key=a3c5aea7d99b9dca621b49723c85b8e3&movieCd=20176962\n"
     ]
    },
    {
     "name": "stderr",
     "output_type": "stream",
     "text": [
      "Detail + domestic totals:  27%|██▋       | 2159/7974 [34:12<6:11:26,  3.83s/it]"
     ]
    },
    {
     "name": "stdout",
     "output_type": "stream",
     "text": [
      "❌ Request failed: KOBIS fault: 키의 하루 이용량을 초과하였습니다. (code=320011)\n",
      "URL: https://www.kobis.or.kr/kobisopenapi/webservice/rest/movie/searchMovieInfo.json?key=a3c5aea7d99b9dca621b49723c85b8e3&movieCd=20173250 \n",
      "URL: https://www.kobis.or.kr/kobisopenapi/webservice/rest/movie/searchMovieInfo.json?key=a3c5aea7d99b9dca621b49723c85b8e3&movieCd=20173250\n"
     ]
    },
    {
     "name": "stderr",
     "output_type": "stream",
     "text": [
      "Detail + domestic totals:  27%|██▋       | 2160/7974 [34:16<6:03:25,  3.75s/it]"
     ]
    },
    {
     "name": "stdout",
     "output_type": "stream",
     "text": [
      "❌ Request failed: KOBIS fault: 키의 하루 이용량을 초과하였습니다. (code=320011)\n",
      "URL: https://www.kobis.or.kr/kobisopenapi/webservice/rest/movie/searchMovieInfo.json?key=a3c5aea7d99b9dca621b49723c85b8e3&movieCd=20175502 \n",
      "URL: https://www.kobis.or.kr/kobisopenapi/webservice/rest/movie/searchMovieInfo.json?key=a3c5aea7d99b9dca621b49723c85b8e3&movieCd=20175502\n"
     ]
    },
    {
     "name": "stderr",
     "output_type": "stream",
     "text": [
      "Detail + domestic totals:  27%|██▋       | 2161/7974 [34:23<7:36:11,  4.71s/it]"
     ]
    },
    {
     "name": "stdout",
     "output_type": "stream",
     "text": [
      "❌ Request failed: KOBIS fault: 키의 하루 이용량을 초과하였습니다. (code=320011)\n",
      "URL: https://www.kobis.or.kr/kobisopenapi/webservice/rest/movie/searchMovieInfo.json?key=a3c5aea7d99b9dca621b49723c85b8e3&movieCd=20170025 \n",
      "URL: https://www.kobis.or.kr/kobisopenapi/webservice/rest/movie/searchMovieInfo.json?key=a3c5aea7d99b9dca621b49723c85b8e3&movieCd=20170025\n"
     ]
    },
    {
     "name": "stderr",
     "output_type": "stream",
     "text": [
      "Detail + domestic totals:  27%|██▋       | 2162/7974 [34:26<7:05:23,  4.39s/it]"
     ]
    },
    {
     "name": "stdout",
     "output_type": "stream",
     "text": [
      "❌ Request failed: KOBIS fault: 키의 하루 이용량을 초과하였습니다. (code=320011)\n",
      "URL: https://www.kobis.or.kr/kobisopenapi/webservice/rest/movie/searchMovieInfo.json?key=a3c5aea7d99b9dca621b49723c85b8e3&movieCd=20173841 \n",
      "URL: https://www.kobis.or.kr/kobisopenapi/webservice/rest/movie/searchMovieInfo.json?key=a3c5aea7d99b9dca621b49723c85b8e3&movieCd=20173841\n"
     ]
    },
    {
     "name": "stderr",
     "output_type": "stream",
     "text": [
      "Detail + domestic totals:  27%|██▋       | 2163/7974 [34:30<6:41:46,  4.15s/it]"
     ]
    },
    {
     "name": "stdout",
     "output_type": "stream",
     "text": [
      "❌ Request failed: KOBIS fault: 키의 하루 이용량을 초과하였습니다. (code=320011)\n",
      "URL: https://www.kobis.or.kr/kobisopenapi/webservice/rest/movie/searchMovieInfo.json?key=a3c5aea7d99b9dca621b49723c85b8e3&movieCd=20174267 \n",
      "URL: https://www.kobis.or.kr/kobisopenapi/webservice/rest/movie/searchMovieInfo.json?key=a3c5aea7d99b9dca621b49723c85b8e3&movieCd=20174267\n"
     ]
    },
    {
     "name": "stderr",
     "output_type": "stream",
     "text": [
      "Detail + domestic totals:  27%|██▋       | 2164/7974 [34:34<6:42:05,  4.15s/it]"
     ]
    },
    {
     "name": "stdout",
     "output_type": "stream",
     "text": [
      "❌ Request failed: KOBIS fault: 키의 하루 이용량을 초과하였습니다. (code=320011)\n",
      "URL: https://www.kobis.or.kr/kobisopenapi/webservice/rest/movie/searchMovieInfo.json?key=a3c5aea7d99b9dca621b49723c85b8e3&movieCd=20176783 \n",
      "URL: https://www.kobis.or.kr/kobisopenapi/webservice/rest/movie/searchMovieInfo.json?key=a3c5aea7d99b9dca621b49723c85b8e3&movieCd=20176783\n"
     ]
    },
    {
     "name": "stderr",
     "output_type": "stream",
     "text": [
      "Detail + domestic totals:  27%|██▋       | 2165/7974 [34:38<6:24:22,  3.97s/it]"
     ]
    },
    {
     "name": "stdout",
     "output_type": "stream",
     "text": [
      "❌ Request failed: KOBIS fault: 키의 하루 이용량을 초과하였습니다. (code=320011)\n",
      "URL: https://www.kobis.or.kr/kobisopenapi/webservice/rest/movie/searchMovieInfo.json?key=a3c5aea7d99b9dca621b49723c85b8e3&movieCd=20170028 \n",
      "URL: https://www.kobis.or.kr/kobisopenapi/webservice/rest/movie/searchMovieInfo.json?key=a3c5aea7d99b9dca621b49723c85b8e3&movieCd=20170028\n"
     ]
    },
    {
     "name": "stderr",
     "output_type": "stream",
     "text": [
      "Detail + domestic totals:  27%|██▋       | 2166/7974 [34:41<6:10:52,  3.83s/it]"
     ]
    },
    {
     "name": "stdout",
     "output_type": "stream",
     "text": [
      "❌ Request failed: KOBIS fault: 키의 하루 이용량을 초과하였습니다. (code=320011)\n",
      "URL: https://www.kobis.or.kr/kobisopenapi/webservice/rest/movie/searchMovieInfo.json?key=a3c5aea7d99b9dca621b49723c85b8e3&movieCd=20171207 \n",
      "URL: https://www.kobis.or.kr/kobisopenapi/webservice/rest/movie/searchMovieInfo.json?key=a3c5aea7d99b9dca621b49723c85b8e3&movieCd=20171207\n"
     ]
    },
    {
     "name": "stderr",
     "output_type": "stream",
     "text": [
      "Detail + domestic totals:  27%|██▋       | 2167/7974 [34:45<6:04:12,  3.76s/it]"
     ]
    },
    {
     "name": "stdout",
     "output_type": "stream",
     "text": [
      "❌ Request failed: KOBIS fault: 키의 하루 이용량을 초과하였습니다. (code=320011)\n",
      "URL: https://www.kobis.or.kr/kobisopenapi/webservice/rest/movie/searchMovieInfo.json?key=a3c5aea7d99b9dca621b49723c85b8e3&movieCd=20179002 \n",
      "URL: https://www.kobis.or.kr/kobisopenapi/webservice/rest/movie/searchMovieInfo.json?key=a3c5aea7d99b9dca621b49723c85b8e3&movieCd=20179002\n"
     ]
    },
    {
     "name": "stderr",
     "output_type": "stream",
     "text": [
      "Detail + domestic totals:  27%|██▋       | 2168/7974 [34:48<5:57:09,  3.69s/it]"
     ]
    },
    {
     "name": "stdout",
     "output_type": "stream",
     "text": [
      "❌ Request failed: KOBIS fault: 키의 하루 이용량을 초과하였습니다. (code=320011)\n",
      "URL: https://www.kobis.or.kr/kobisopenapi/webservice/rest/movie/searchMovieInfo.json?key=a3c5aea7d99b9dca621b49723c85b8e3&movieCd=20173381 \n",
      "URL: https://www.kobis.or.kr/kobisopenapi/webservice/rest/movie/searchMovieInfo.json?key=a3c5aea7d99b9dca621b49723c85b8e3&movieCd=20173381\n"
     ]
    },
    {
     "name": "stderr",
     "output_type": "stream",
     "text": [
      "Detail + domestic totals:  27%|██▋       | 2169/7974 [34:52<5:52:32,  3.64s/it]"
     ]
    },
    {
     "name": "stdout",
     "output_type": "stream",
     "text": [
      "❌ Request failed: KOBIS fault: 키의 하루 이용량을 초과하였습니다. (code=320011)\n",
      "URL: https://www.kobis.or.kr/kobisopenapi/webservice/rest/movie/searchMovieInfo.json?key=a3c5aea7d99b9dca621b49723c85b8e3&movieCd=20177642 \n",
      "URL: https://www.kobis.or.kr/kobisopenapi/webservice/rest/movie/searchMovieInfo.json?key=a3c5aea7d99b9dca621b49723c85b8e3&movieCd=20177642\n"
     ]
    },
    {
     "name": "stderr",
     "output_type": "stream",
     "text": [
      "Detail + domestic totals:  27%|██▋       | 2170/7974 [34:56<5:59:39,  3.72s/it]"
     ]
    },
    {
     "name": "stdout",
     "output_type": "stream",
     "text": [
      "❌ Request failed: KOBIS fault: 키의 하루 이용량을 초과하였습니다. (code=320011)\n",
      "URL: https://www.kobis.or.kr/kobisopenapi/webservice/rest/movie/searchMovieInfo.json?key=a3c5aea7d99b9dca621b49723c85b8e3&movieCd=20178125 \n",
      "URL: https://www.kobis.or.kr/kobisopenapi/webservice/rest/movie/searchMovieInfo.json?key=a3c5aea7d99b9dca621b49723c85b8e3&movieCd=20178125\n"
     ]
    },
    {
     "name": "stderr",
     "output_type": "stream",
     "text": [
      "Detail + domestic totals:  27%|██▋       | 2171/7974 [35:08<9:57:11,  6.17s/it]"
     ]
    },
    {
     "name": "stdout",
     "output_type": "stream",
     "text": [
      "❌ Request failed: KOBIS fault: 키의 하루 이용량을 초과하였습니다. (code=320011)\n",
      "URL: https://www.kobis.or.kr/kobisopenapi/webservice/rest/movie/searchMovieInfo.json?key=a3c5aea7d99b9dca621b49723c85b8e3&movieCd=20172861 \n",
      "URL: https://www.kobis.or.kr/kobisopenapi/webservice/rest/movie/searchMovieInfo.json?key=a3c5aea7d99b9dca621b49723c85b8e3&movieCd=20172861\n"
     ]
    },
    {
     "name": "stderr",
     "output_type": "stream",
     "text": [
      "Detail + domestic totals:  27%|██▋       | 2172/7974 [35:11<8:45:23,  5.43s/it]"
     ]
    },
    {
     "name": "stdout",
     "output_type": "stream",
     "text": [
      "❌ Request failed: KOBIS fault: 키의 하루 이용량을 초과하였습니다. (code=320011)\n",
      "URL: https://www.kobis.or.kr/kobisopenapi/webservice/rest/movie/searchMovieInfo.json?key=a3c5aea7d99b9dca621b49723c85b8e3&movieCd=20172403 \n",
      "URL: https://www.kobis.or.kr/kobisopenapi/webservice/rest/movie/searchMovieInfo.json?key=a3c5aea7d99b9dca621b49723c85b8e3&movieCd=20172403\n"
     ]
    },
    {
     "name": "stderr",
     "output_type": "stream",
     "text": [
      "Detail + domestic totals:  27%|██▋       | 2173/7974 [35:15<7:48:10,  4.84s/it]"
     ]
    },
    {
     "name": "stdout",
     "output_type": "stream",
     "text": [
      "❌ Request failed: KOBIS fault: 키의 하루 이용량을 초과하였습니다. (code=320011)\n",
      "URL: https://www.kobis.or.kr/kobisopenapi/webservice/rest/movie/searchMovieInfo.json?key=a3c5aea7d99b9dca621b49723c85b8e3&movieCd=20179670 \n",
      "URL: https://www.kobis.or.kr/kobisopenapi/webservice/rest/movie/searchMovieInfo.json?key=a3c5aea7d99b9dca621b49723c85b8e3&movieCd=20179670\n"
     ]
    },
    {
     "name": "stderr",
     "output_type": "stream",
     "text": [
      "Detail + domestic totals:  27%|██▋       | 2174/7974 [35:23<9:16:12,  5.75s/it]"
     ]
    },
    {
     "name": "stdout",
     "output_type": "stream",
     "text": [
      "❌ Request failed: KOBIS fault: 키의 하루 이용량을 초과하였습니다. (code=320011)\n",
      "URL: https://www.kobis.or.kr/kobisopenapi/webservice/rest/movie/searchMovieInfo.json?key=a3c5aea7d99b9dca621b49723c85b8e3&movieCd=20175210 \n",
      "URL: https://www.kobis.or.kr/kobisopenapi/webservice/rest/movie/searchMovieInfo.json?key=a3c5aea7d99b9dca621b49723c85b8e3&movieCd=20175210\n"
     ]
    },
    {
     "name": "stderr",
     "output_type": "stream",
     "text": [
      "Detail + domestic totals:  27%|██▋       | 2175/7974 [35:27<8:25:01,  5.23s/it]"
     ]
    },
    {
     "name": "stdout",
     "output_type": "stream",
     "text": [
      "❌ Request failed: KOBIS fault: 키의 하루 이용량을 초과하였습니다. (code=320011)\n",
      "URL: https://www.kobis.or.kr/kobisopenapi/webservice/rest/movie/searchMovieInfo.json?key=a3c5aea7d99b9dca621b49723c85b8e3&movieCd=20177925 \n",
      "URL: https://www.kobis.or.kr/kobisopenapi/webservice/rest/movie/searchMovieInfo.json?key=a3c5aea7d99b9dca621b49723c85b8e3&movieCd=20177925\n"
     ]
    },
    {
     "name": "stderr",
     "output_type": "stream",
     "text": [
      "Detail + domestic totals:  27%|██▋       | 2176/7974 [35:30<7:36:33,  4.72s/it]"
     ]
    },
    {
     "name": "stdout",
     "output_type": "stream",
     "text": [
      "❌ Request failed: KOBIS fault: 키의 하루 이용량을 초과하였습니다. (code=320011)\n",
      "URL: https://www.kobis.or.kr/kobisopenapi/webservice/rest/movie/searchMovieInfo.json?key=a3c5aea7d99b9dca621b49723c85b8e3&movieCd=20138561 \n",
      "URL: https://www.kobis.or.kr/kobisopenapi/webservice/rest/movie/searchMovieInfo.json?key=a3c5aea7d99b9dca621b49723c85b8e3&movieCd=20138561\n"
     ]
    },
    {
     "name": "stderr",
     "output_type": "stream",
     "text": [
      "Detail + domestic totals:  27%|██▋       | 2176/7974 [35:34<1:34:46,  1.02it/s]\n"
     ]
    },
    {
     "ename": "KeyboardInterrupt",
     "evalue": "",
     "output_type": "error",
     "traceback": [
      "\u001b[31m---------------------------------------------------------------------------\u001b[39m",
      "\u001b[31mRuntimeError\u001b[39m                              Traceback (most recent call last)",
      "\u001b[36mCell\u001b[39m\u001b[36m \u001b[39m\u001b[32mIn[5]\u001b[39m\u001b[32m, line 62\u001b[39m, in \u001b[36mkobis_get\u001b[39m\u001b[34m(path, params, retry)\u001b[39m\n\u001b[32m     61\u001b[39m     fi  = data[\u001b[33m\"\u001b[39m\u001b[33mfaultInfo\u001b[39m\u001b[33m\"\u001b[39m]\n\u001b[32m---> \u001b[39m\u001b[32m62\u001b[39m     \u001b[38;5;28;01mraise\u001b[39;00m \u001b[38;5;167;01mRuntimeError\u001b[39;00m(\u001b[33mf\u001b[39m\u001b[33m\"\u001b[39m\u001b[33mKOBIS fault: \u001b[39m\u001b[38;5;132;01m{\u001b[39;00mfi.get(\u001b[33m'\u001b[39m\u001b[33mmessage\u001b[39m\u001b[33m'\u001b[39m)\u001b[38;5;132;01m}\u001b[39;00m\u001b[33m (code=\u001b[39m\u001b[38;5;132;01m{\u001b[39;00mfi.get(\u001b[33m'\u001b[39m\u001b[33merrorCode\u001b[39m\u001b[33m'\u001b[39m)\u001b[38;5;132;01m}\u001b[39;00m\u001b[33m)\u001b[39m\u001b[38;5;130;01m\\n\u001b[39;00m\u001b[33mURL: \u001b[39m\u001b[38;5;132;01m{\u001b[39;00murl\u001b[38;5;132;01m}\u001b[39;00m\u001b[33m\"\u001b[39m)\n\u001b[32m     63\u001b[39m time.sleep(SLEEP)\n",
      "\u001b[31mRuntimeError\u001b[39m: KOBIS fault: 키의 하루 이용량을 초과하였습니다. (code=320011)\nURL: https://www.kobis.or.kr/kobisopenapi/webservice/rest/movie/searchMovieInfo.json?key=a3c5aea7d99b9dca621b49723c85b8e3&movieCd=20166422",
      "\nDuring handling of the above exception, another exception occurred:\n",
      "\u001b[31mKeyboardInterrupt\u001b[39m                         Traceback (most recent call last)",
      "\u001b[36mCell\u001b[39m\u001b[36m \u001b[39m\u001b[32mIn[5]\u001b[39m\u001b[32m, line 366\u001b[39m\n\u001b[32m    364\u001b[39m \u001b[38;5;28;01mif\u001b[39;00m \u001b[38;5;129;01mnot\u001b[39;00m os.path.exists(CANDIDATES_CSV):\n\u001b[32m    365\u001b[39m     build_candidates()\n\u001b[32m--> \u001b[39m\u001b[32m366\u001b[39m \u001b[43menrich_and_save\u001b[49m\u001b[43m(\u001b[49m\u001b[43m)\u001b[49m\n",
      "\u001b[36mCell\u001b[39m\u001b[36m \u001b[39m\u001b[32mIn[5]\u001b[39m\u001b[32m, line 329\u001b[39m, in \u001b[36menrich_and_save\u001b[39m\u001b[34m(candidates_csv, out_csv)\u001b[39m\n\u001b[32m    327\u001b[39m movieCd = \u001b[38;5;28mstr\u001b[39m(r[\u001b[33m\"\u001b[39m\u001b[33mmovieCd\u001b[39m\u001b[33m\"\u001b[39m])\n\u001b[32m    328\u001b[39m \u001b[38;5;28;01mtry\u001b[39;00m:\n\u001b[32m--> \u001b[39m\u001b[32m329\u001b[39m     info = \u001b[43mfetch_movie_info\u001b[49m\u001b[43m(\u001b[49m\u001b[43mmovieCd\u001b[49m\u001b[43m)\u001b[49m\n\u001b[32m    330\u001b[39m \u001b[38;5;28;01mexcept\u001b[39;00m \u001b[38;5;167;01mException\u001b[39;00m:\n\u001b[32m    331\u001b[39m     bar.update(\u001b[32m1\u001b[39m); \u001b[38;5;28;01mcontinue\u001b[39;00m\n",
      "\u001b[36mCell\u001b[39m\u001b[36m \u001b[39m\u001b[32mIn[5]\u001b[39m\u001b[32m, line 278\u001b[39m, in \u001b[36mfetch_movie_info\u001b[39m\u001b[34m(movieCd)\u001b[39m\n\u001b[32m    277\u001b[39m \u001b[38;5;28;01mdef\u001b[39;00m\u001b[38;5;250m \u001b[39m\u001b[34mfetch_movie_info\u001b[39m(movieCd: \u001b[38;5;28mstr\u001b[39m):\n\u001b[32m--> \u001b[39m\u001b[32m278\u001b[39m     js = \u001b[43mkobis_get\u001b[49m\u001b[43m(\u001b[49m\u001b[33;43m\"\u001b[39;49m\u001b[33;43m/movie/searchMovieInfo\u001b[39;49m\u001b[33;43m\"\u001b[39;49m\u001b[43m,\u001b[49m\u001b[43m \u001b[49m\u001b[43m{\u001b[49m\u001b[33;43m\"\u001b[39;49m\u001b[33;43mmovieCd\u001b[39;49m\u001b[33;43m\"\u001b[39;49m\u001b[43m:\u001b[49m\u001b[43m \u001b[49m\u001b[43mmovieCd\u001b[49m\u001b[43m}\u001b[49m\u001b[43m)\u001b[49m\n\u001b[32m    279\u001b[39m     \u001b[38;5;28;01mreturn\u001b[39;00m js.get(\u001b[33m\"\u001b[39m\u001b[33mmovieInfoResult\u001b[39m\u001b[33m\"\u001b[39m, {}).get(\u001b[33m\"\u001b[39m\u001b[33mmovieInfo\u001b[39m\u001b[33m\"\u001b[39m, {}) \u001b[38;5;129;01mor\u001b[39;00m {}\n",
      "\u001b[36mCell\u001b[39m\u001b[36m \u001b[39m\u001b[32mIn[5]\u001b[39m\u001b[32m, line 70\u001b[39m, in \u001b[36mkobis_get\u001b[39m\u001b[34m(path, params, retry)\u001b[39m\n\u001b[32m     68\u001b[39m             \u001b[38;5;28mprint\u001b[39m(\u001b[33m\"\u001b[39m\u001b[33m❌ Request failed:\u001b[39m\u001b[33m\"\u001b[39m, e, \u001b[33m\"\u001b[39m\u001b[38;5;130;01m\\n\u001b[39;00m\u001b[33mURL:\u001b[39m\u001b[33m\"\u001b[39m, url)\n\u001b[32m     69\u001b[39m             \u001b[38;5;28;01mraise\u001b[39;00m\n\u001b[32m---> \u001b[39m\u001b[32m70\u001b[39m         \u001b[43mtime\u001b[49m\u001b[43m.\u001b[49m\u001b[43msleep\u001b[49m\u001b[43m(\u001b[49m\u001b[38;5;28;43mmin\u001b[39;49m\u001b[43m(\u001b[49m\u001b[32;43m2\u001b[39;49m\u001b[43m*\u001b[49m\u001b[43m*\u001b[49m\u001b[43mi\u001b[49m\u001b[43m,\u001b[49m\u001b[43m \u001b[49m\u001b[32;43m8\u001b[39;49m\u001b[43m)\u001b[49m\u001b[43m)\u001b[49m\n\u001b[32m     71\u001b[39m \u001b[38;5;28;01mraise\u001b[39;00m \u001b[38;5;167;01mRuntimeError\u001b[39;00m(\u001b[33mf\u001b[39m\u001b[33m\"\u001b[39m\u001b[33munreachable: \u001b[39m\u001b[38;5;132;01m{\u001b[39;00mlast_err\u001b[38;5;132;01m}\u001b[39;00m\u001b[33m\"\u001b[39m)\n",
      "\u001b[31mKeyboardInterrupt\u001b[39m: "
     ]
    }
   ],
   "source": [
    "# -*- coding: utf-8 -*-\n",
    "\"\"\"\n",
    "2005-01-01 ~ 2025-12-31\n",
    "KOFIC(KOBIS)에서 '한국 제작 + 국내 극장 개봉' 영화만 후보 단계부터 선별하여\n",
    "TMDB 스타일 스키마 CSV 생성 (revenue=국내 최종 누적매출, audience_total=최종 누적관객)\n",
    "\n",
    "출력 열 순서:\n",
    "movie_id,title,original_title,original_language,release_date,runtime,budget,\n",
    "revenue,vote_average,vote_count,popularity,genres,production_companies,\n",
    "production_countries,release_year,release_month,audience_total\n",
    "\"\"\"\n",
    "\n",
    "import os, time, json, requests\n",
    "import pandas as pd\n",
    "import numpy as np\n",
    "from datetime import datetime, timedelta, date\n",
    "from urllib.parse import urlencode\n",
    "from tqdm import tqdm\n",
    "from dotenv import load_dotenv\n",
    "\n",
    "# ===== 사용자 설정 =====\n",
    "START_DATE = \"2005-01-01\"\n",
    "END_DATE   = \"2025-12-31\"\n",
    "\n",
    "OUT_DIR        = \"./data_processed\"\n",
    "CANDIDATES_CSV = f\"{OUT_DIR}/kofic_candidates_kr_2005_2025.csv\"   # 한국만 담긴 후보\n",
    "OUT_CSV        = f\"{OUT_DIR}/kofic_domestic_kr_2005_2025.csv\"     # 최종 결과\n",
    "\n",
    "TIMEOUT = 20\n",
    "RETRY   = 3\n",
    "SLEEP   = 0.15  # 너무 낮추면 429 위험\n",
    "\n",
    "# 주간 박스오피스 기반 최종 누적 추정 파라미터\n",
    "JUMP_STEPS_DAYS     = [0, 14, 28, 56, 84]  # 개봉 후 0/2/4/8/12주\n",
    "LOCAL_REFINE_RADIUS = 7                    # 마지막 앵커 ±1주 보정\n",
    "MIN_ABS_DELTA  = 50_000_000               # 매출 증가 최소치(원)\n",
    "MIN_REL_DELTA  = 0.01                     # 증가율 임계(1%)\n",
    "PLATEAU_STREAK = 2                        # 2회 연속 정체 → 종료\n",
    "\n",
    "# ===== 준비 =====\n",
    "load_dotenv()\n",
    "KOFIC_KEY = os.getenv(\"KOFIC_API_KEY\") or os.getenv(\"KOBIS_KEY\")\n",
    "if not KOFIC_KEY:\n",
    "    raise SystemExit(\"❌ .env에 KOFIC_API_KEY(=KOBIS_KEY)가 없습니다.\")\n",
    "os.makedirs(OUT_DIR, exist_ok=True)\n",
    "\n",
    "BASE = \"https://www.kobis.or.kr/kobisopenapi/webservice/rest\"\n",
    "\n",
    "def kobis_get(path, params, retry=RETRY):\n",
    "    q = {\"key\": KOFIC_KEY, **params}\n",
    "    url = f\"{BASE}{path}.json?{urlencode(q)}\"\n",
    "    last_err = None\n",
    "    for i in range(retry):\n",
    "        try:\n",
    "            r = requests.get(url, timeout=TIMEOUT)\n",
    "            if r.status_code in (429, 500, 502, 503, 504):\n",
    "                time.sleep(min(2**i, 8)); continue\n",
    "            r.raise_for_status()\n",
    "            data = r.json()\n",
    "            if isinstance(data, dict) and data.get(\"faultInfo\"):\n",
    "                fi  = data[\"faultInfo\"]\n",
    "                raise RuntimeError(f\"KOBIS fault: {fi.get('message')} (code={fi.get('errorCode')})\\nURL: {url}\")\n",
    "            time.sleep(SLEEP)\n",
    "            return data\n",
    "        except Exception as e:\n",
    "            last_err = e\n",
    "            if i == retry - 1:\n",
    "                print(\"❌ Request failed:\", e, \"\\nURL:\", url)\n",
    "                raise\n",
    "            time.sleep(min(2**i, 8))\n",
    "    raise RuntimeError(f\"unreachable: {last_err}\")\n",
    "\n",
    "# ===== 공통 유틸 =====\n",
    "def to_iso_from_yyyymmdd(s):\n",
    "    if not s: return pd.NA\n",
    "    s = str(s)\n",
    "    if len(s) != 8 or not s.isdigit(): return pd.NA\n",
    "    return f\"{s[:4]}-{s[4:6]}-{s[6:]}\"\n",
    "\n",
    "def json_list_str(xs):\n",
    "    if xs is None: return \"[]\"\n",
    "    if isinstance(xs, list):\n",
    "        return json.dumps(xs, ensure_ascii=False)\n",
    "    return json.dumps([str(xs)], ensure_ascii=False)\n",
    "\n",
    "def sunday_of_week(d: date) -> date:\n",
    "    # 월=0..일=6 → 일요일로 보정\n",
    "    return d + timedelta(days=(6 - d.weekday()))\n",
    "\n",
    "def is_korean_production(info):\n",
    "    nations = [n.get(\"nationNm\") for n in (info.get(\"nations\") or []) if n.get(\"nationNm\")]\n",
    "    return any(str(n).strip() in {\"한국\",\"대한민국\",\"Korea\",\"South Korea\",\"Republic of Korea\"} for n in nations)\n",
    "\n",
    "def in_period_open(info, start=START_DATE, end=END_DATE):\n",
    "    openDt = info.get(\"openDt\")\n",
    "    if not openDt: return False\n",
    "    iso = to_iso_from_yyyymmdd(openDt)\n",
    "    if pd.isna(iso): return False\n",
    "    return (iso >= start) and (iso <= end)\n",
    "\n",
    "# ===== (옵션2) 공통코드에서 ‘한국’ 8자리 코드 조회 =====\n",
    "# 에러 메시지에 ‘공통코드220310’이 언급되는 경우가 있어 다양한 후보 comCode를 순회 탐색\n",
    "CODE_TABLE_CANDIDATES = [\"220310\", \"2204\", \"22003\", \"2203\", \"220301\", \"220201\"]\n",
    "\n",
    "def get_korea_code(verbose=True):\n",
    "    for cc in CODE_TABLE_CANDIDATES:\n",
    "        try:\n",
    "            js = kobis_get(\"/code/searchCodeList\", {\"comCode\": cc})\n",
    "        except Exception as e:\n",
    "            if verbose:\n",
    "                print(f\"  · 공통코드 {cc} 조회 실패: {e}\")\n",
    "            continue\n",
    "\n",
    "        # 응답 구조 가변 대응\n",
    "        code_list = (\n",
    "            (js.get(\"codeListResult\") or {}).get(\"codeList\")\n",
    "            or js.get(\"codes\")\n",
    "            or js.get(\"codeList\")\n",
    "            or []\n",
    "        )\n",
    "\n",
    "        found = None\n",
    "        for c in code_list:\n",
    "            name_ko = c.get(\"korNm\") or c.get(\"codeNm\") or c.get(\"korName\") or \"\"\n",
    "            name_en = (c.get(\"engNm\") or c.get(\"engName\") or \"\").upper()\n",
    "            code    = c.get(\"fullCd\") or c.get(\"code\") or c.get(\"cd\") or \"\"\n",
    "            if ((\"한국\" in name_ko) or (\"대한민국\" in name_ko)\n",
    "                or (\"KOREA\" in name_en) or (\"REPUBLIC OF KOREA\" in name_en)):\n",
    "                if isinstance(code, str) and len(code) == 8 and code.isdigit():\n",
    "                    found = code; break\n",
    "\n",
    "        if found:\n",
    "            if verbose:\n",
    "                print(f\"✅ 한국 코드 발견 (comCode={cc}): {found}\")\n",
    "            return found\n",
    "\n",
    "    if verbose:\n",
    "        print(\"⚠️ 공통코드 테이블에서 한국 코드(8자리)를 찾지 못했습니다. 응답 필터 폴백을 사용합니다.\")\n",
    "    return None\n",
    "\n",
    "# ===== 1) 후보(연도별) 수집: ‘서버 필터(한국)’ 우선, 실패시 폴백(응답에서 한국만 선별) =====\n",
    "KR_LABELS = {\"한국\",\"대한민국\",\"Korea\",\"South Korea\",\"Republic of Korea\"}\n",
    "\n",
    "def find_candidates_by_year(year: int, kr_code: str | None):\n",
    "    y = str(year)\n",
    "    # 우선 ‘연/기간’ 3가지 패턴으로 프로브 → 성공 조합으로 페이징\n",
    "    base_patterns = [\n",
    "        {\"openStartDt\": y,          \"openEndDt\": y          },\n",
    "        {\"openStartDt\": y                                  },\n",
    "        {\"openStartDt\": f\"{y}0101\", \"openEndDt\": f\"{y}1231\"},\n",
    "    ]\n",
    "\n",
    "    def probe(params):\n",
    "        js = kobis_get(\"/movie/searchMovieList\", {**params, \"itemPerPage\": 10, \"curPage\": 1})\n",
    "        res = js.get(\"movieListResult\", {}) or {}\n",
    "        tot = res.get(\"totCnt\")\n",
    "        return int(tot) if (isinstance(tot, (int,str)) and str(tot).isdigit()) else 0\n",
    "\n",
    "    chosen = None\n",
    "    mode = \"ANY\"\n",
    "\n",
    "    # 1) repNationCd=한국코드 사용 프로브\n",
    "    if kr_code:\n",
    "        for p in base_patterns:\n",
    "            params = {**p, \"repNationCd\": kr_code}\n",
    "            if probe(params) > 0:\n",
    "                chosen = params\n",
    "                mode = \"KCODE\"\n",
    "                break\n",
    "\n",
    "    # 2) 실패 시 무필터로 프로브\n",
    "    if chosen is None:\n",
    "        for p in base_patterns:\n",
    "            if probe(p) > 0:\n",
    "                chosen = p\n",
    "                mode = \"ANY\"\n",
    "                break\n",
    "\n",
    "    if chosen is None:\n",
    "        print(f\"  · {year}: 후보 0건 (건너뜀)\")\n",
    "        return []\n",
    "\n",
    "    out, per_page, cur_page, total_seen = [], 100, 1, None\n",
    "    while True:\n",
    "        params = {**chosen, \"itemPerPage\": per_page, \"curPage\": cur_page}\n",
    "        js = kobis_get(\"/movie/searchMovieList\", params)\n",
    "        res = js.get(\"movieListResult\", {}) or {}\n",
    "        lst = res.get(\"movieList\", []) or []\n",
    "        tot = res.get(\"totCnt\", None)\n",
    "        if total_seen is None and tot is not None:\n",
    "            total_seen = int(tot)\n",
    "\n",
    "        if not lst: break\n",
    "\n",
    "        for x in lst:\n",
    "            mc  = x.get(\"movieCd\")\n",
    "            rep = (x.get(\"repNationNm\") or \"\").strip()\n",
    "            if not mc:\n",
    "                continue\n",
    "            if (mode == \"KCODE\") or (rep in KR_LABELS):\n",
    "                out.append((mc, x.get(\"movieNm\"), x.get(\"openDt\")))\n",
    "\n",
    "        # repNationCd를 쓴 경우에는 totCnt에 신뢰\n",
    "        if (mode == \"KCODE\") and (total_seen is not None) and (len(out) >= total_seen):\n",
    "            break\n",
    "\n",
    "        cur_page += 1\n",
    "        time.sleep(SLEEP)\n",
    "\n",
    "    print(f\"  · {year}: mode={mode:<6}, collected(K-only)={len(out):>5}\")\n",
    "    return out\n",
    "\n",
    "def build_candidates(save_path=CANDIDATES_CSV, start=START_DATE, end=END_DATE):\n",
    "    s_year, e_year = int(start[:4]), int(end[:4])\n",
    "    print(\"연도별 후보 수집(서버 한국코드 우선)…\")\n",
    "    kr_code = get_korea_code(verbose=True)\n",
    "    cands = []\n",
    "    for y in range(s_year, e_year+1):\n",
    "        cands.extend(find_candidates_by_year(y, kr_code))\n",
    "    df = pd.DataFrame(cands, columns=[\"movieCd\",\"movieNm\",\"openDt\"]).drop_duplicates(\"movieCd\")\n",
    "    df.to_csv(save_path, index=False, encoding=\"utf-8-sig\")\n",
    "    print(f\"📄 후보 저장(한국만): {save_path} (고유 {len(df):,}편)\")\n",
    "    return df\n",
    "\n",
    "# ===== 2) 주간 박스오피스 기반 누적(매출/관객) 추정 =====\n",
    "weekly_cache = {}\n",
    "\n",
    "def weekly_items(target_yyyymmdd: str):\n",
    "    if target_yyyymmdd in weekly_cache:\n",
    "        return weekly_cache[target_yyyymmdd]\n",
    "    js = kobis_get(\"/boxoffice/searchWeeklyBoxOfficeList\",\n",
    "                   {\"targetDt\": target_yyyymmdd, \"weekGb\": \"0\"})\n",
    "    items = js.get(\"boxOfficeResult\", {}).get(\"weeklyBoxOfficeList\", []) or []\n",
    "    weekly_cache[target_yyyymmdd] = items\n",
    "    return items\n",
    "\n",
    "def get_acc_from_weekly_by_code(movieCd: str, target_date: date):\n",
    "    tgt = sunday_of_week(target_date).strftime(\"%Y%m%d\")\n",
    "    for it in weekly_items(tgt):\n",
    "        if it.get(\"movieCd\") == movieCd:\n",
    "            s = pd.to_numeric(it.get(\"salesAcc\"), errors=\"coerce\") or 0\n",
    "            a = pd.to_numeric(it.get(\"audiAcc\"),  errors=\"coerce\") or 0\n",
    "            return s, a\n",
    "    return 0, 0\n",
    "\n",
    "def intelligent_final_acc(movieCd: str, open_yyyymmdd: str):\n",
    "    if not open_yyyymmdd or len(str(open_yyyymmdd)) != 8:\n",
    "        return (pd.NA, pd.NA)\n",
    "    base = datetime.strptime(open_yyyymmdd, \"%Y%m%d\").date()\n",
    "\n",
    "    best_sales, best_audi = 0.0, 0.0\n",
    "    plateau_cnt, prev = 0, 0.0\n",
    "\n",
    "    for dd in JUMP_STEPS_DAYS:\n",
    "        anchor = base + timedelta(days=dd)\n",
    "        s, a = get_acc_from_weekly_by_code(movieCd, anchor)\n",
    "        if s > best_sales: best_sales = s\n",
    "        if a > best_audi:  best_audi  = a\n",
    "\n",
    "        delta = best_sales - prev\n",
    "        rel = (delta/prev) if prev > 0 else 1.0\n",
    "        plateau_cnt = plateau_cnt + 1 if (delta < MIN_ABS_DELTA and rel < MIN_REL_DELTA) else 0\n",
    "        prev = best_sales\n",
    "\n",
    "        if plateau_cnt >= PLATEAU_STREAK:\n",
    "            for d in range(-LOCAL_REFINE_RADIUS, LOCAL_REFINE_RADIUS+1, 7):\n",
    "                anchor2 = anchor + timedelta(days=d)\n",
    "                s2, a2 = get_acc_from_weekly_by_code(movieCd, anchor2)\n",
    "                if s2 > best_sales: best_sales = s2\n",
    "                if a2 > best_audi:  best_audi  = a2\n",
    "            break\n",
    "\n",
    "    return (pd.NA if best_sales == 0 else best_sales,\n",
    "            pd.NA if best_audi  == 0 else best_audi)\n",
    "\n",
    "# ===== 3) 상세 → TMDB 스타일 행 빌드 =====\n",
    "def fetch_movie_info(movieCd: str):\n",
    "    js = kobis_get(\"/movie/searchMovieInfo\", {\"movieCd\": movieCd})\n",
    "    return js.get(\"movieInfoResult\", {}).get(\"movieInfo\", {}) or {}\n",
    "\n",
    "def to_tmdb_row(info, salesAcc_final, audiAcc_final):\n",
    "    movieCd   = info.get(\"movieCd\")\n",
    "    movieNm   = info.get(\"movieNm\")\n",
    "    movieNmEn = info.get(\"movieNmEn\") or movieNm\n",
    "    openDt    = info.get(\"openDt\")  # yyyymmdd\n",
    "    release_date = to_iso_from_yyyymmdd(openDt)\n",
    "\n",
    "    dt = pd.to_datetime(release_date, errors=\"coerce\") if pd.notna(release_date) else pd.NaT\n",
    "    release_year  = (dt.year  if pd.notna(dt) else pd.NA)\n",
    "    release_month = (dt.month if pd.notna(dt) else pd.NA)\n",
    "\n",
    "    showTm = pd.to_numeric(info.get(\"showTm\"), errors=\"coerce\")\n",
    "    genres    = [g.get(\"genreNm\")   for g in (info.get(\"genres\")   or []) if g.get(\"genreNm\")]\n",
    "    companies = [c.get(\"companyNm\") for c in (info.get(\"companys\") or []) if c.get(\"companyNm\")]\n",
    "\n",
    "    return {\n",
    "        \"movie_id\": movieCd,\n",
    "        \"title\": movieNm,\n",
    "        \"original_title\": movieNmEn,\n",
    "        \"original_language\": \"ko\",\n",
    "        \"release_date\": release_date,\n",
    "        \"runtime\": showTm,\n",
    "        \"budget\": pd.NA,\n",
    "        \"revenue\": pd.to_numeric(salesAcc_final),  # 국내 최종 누적매출(원)\n",
    "        \"vote_average\": pd.NA,\n",
    "        \"vote_count\": pd.NA,\n",
    "        \"popularity\": pd.NA,\n",
    "        \"genres\": json_list_str(genres),\n",
    "        \"production_companies\": json_list_str(companies),\n",
    "        \"production_countries\": json_list_str([\"KR\"]),\n",
    "        \"release_year\": release_year,\n",
    "        \"release_month\": release_month,\n",
    "        \"audience_total\": pd.to_numeric(audiAcc_final),  # 국내 최종 누적관객\n",
    "    }\n",
    "\n",
    "def enrich_and_save(candidates_csv=CANDIDATES_CSV, out_csv=OUT_CSV):\n",
    "    # 후보 로드 or 생성\n",
    "    if os.path.exists(candidates_csv):\n",
    "        cand = pd.read_csv(candidates_csv, dtype=str)\n",
    "        print(f\"📄 후보 로드: {candidates_csv} (rows={len(cand):,})\")\n",
    "    else:\n",
    "        cand = build_candidates()\n",
    "\n",
    "    rows = []\n",
    "    with tqdm(total=len(cand), desc=\"Detail + domestic totals\") as bar:\n",
    "        for _, r in cand.iterrows():\n",
    "            movieCd = str(r[\"movieCd\"])\n",
    "            try:\n",
    "                info = fetch_movie_info(movieCd)\n",
    "            except Exception:\n",
    "                bar.update(1); continue\n",
    "\n",
    "            # 상세에서도 한국 제작 & 기간 내 개봉 확인 (이중 안전망)\n",
    "            if (not is_korean_production(info)) or (not in_period_open(info)):\n",
    "                bar.update(1); continue\n",
    "\n",
    "            try:\n",
    "                s_final, a_final = intelligent_final_acc(movieCd, info.get(\"openDt\"))\n",
    "            except Exception:\n",
    "                s_final, a_final = (pd.NA, pd.NA)\n",
    "\n",
    "            rows.append(to_tmdb_row(info, s_final, a_final))\n",
    "            bar.update(1)\n",
    "\n",
    "    df = pd.DataFrame(rows)\n",
    "    if not df.empty:\n",
    "        df[\"runtime\"]        = pd.to_numeric(df[\"runtime\"], errors=\"coerce\")\n",
    "        df[\"revenue\"]        = pd.to_numeric(df[\"revenue\"], errors=\"coerce\")\n",
    "        df[\"audience_total\"] = pd.to_numeric(df[\"audience_total\"], errors=\"coerce\")\n",
    "        df[\"release_year\"]   = pd.to_numeric(df[\"release_year\"], errors=\"coerce\").astype(\"Int64\")\n",
    "        df[\"release_month\"]  = pd.to_numeric(df[\"release_month\"], errors=\"coerce\").astype(\"Int64\")\n",
    "\n",
    "    cols = [\"movie_id\",\"title\",\"original_title\",\"original_language\",\"release_date\",\"runtime\",\"budget\",\n",
    "            \"revenue\",\"vote_average\",\"vote_count\",\"popularity\",\"genres\",\"production_companies\",\n",
    "            \"production_countries\",\"release_year\",\"release_month\",\"audience_total\"]\n",
    "    df = df.reindex(columns=cols)\n",
    "\n",
    "    df.to_csv(out_csv, index=False, encoding=\"utf-8-sig\")\n",
    "    print(f\"✅ 저장 완료: {out_csv} (rows={len(df):,})\")\n",
    "    print(f\"🗃 weekly_cache 크기(앵커 호출 수): {len(weekly_cache):,}\")\n",
    "\n",
    "# ===== 실행 =====\n",
    "if __name__ == \"__main__\":\n",
    "    if not os.path.exists(CANDIDATES_CSV):\n",
    "        build_candidates()\n",
    "    enrich_and_save()\n"
   ]
  },
  {
   "cell_type": "code",
   "execution_count": null,
   "id": "cc53719f",
   "metadata": {},
   "outputs": [
    {
     "name": "stdout",
     "output_type": "stream",
     "text": [
      "🎉 API 키가 유효합니다! API 호출에 성공했습니다.\n",
      "첫 번째 영화: 아바타: 물의 길\n"
     ]
    }
   ],
   "source": [
    "import requests\n",
    "import json\n",
    "\n",
    "# 여기에 발급받은 KOFIC API 키를 입력하세요.\n",
    "API_KEY = \"\"\n",
    "\n",
    "# 테스트를 위한 API 엔드포인트\n",
    "url = f\"http://www.kobis.or.kr/kobisopenapi/webservice/rest/boxoffice/searchDailyBoxOfficeList.json?key={API_KEY}&targetDt=20230101\"\n",
    "\n",
    "try:\n",
    "    response = requests.get(url)\n",
    "    \n",
    "    # HTTP 상태 코드 확인 (200 OK)\n",
    "    if response.status_code == 200:\n",
    "        data = json.loads(response.text)\n",
    "        \n",
    "        # API 응답에 'faultInfo'가 있는지 확인\n",
    "        if 'faultInfo' in data:\n",
    "            fault_info = data['faultInfo']\n",
    "            error_code = fault_info.get('errorCode')\n",
    "            message = fault_info.get('message')\n",
    "            \n",
    "            # 오류 메시지를 통해 키 유효성 판단\n",
    "            if error_code == '3209' or '유효하지 않은 키' in message:\n",
    "                print(\"❌ API 키가 유효하지 않습니다.\")\n",
    "                print(f\"오류 코드: {error_code}, 메시지: {message}\")\n",
    "            else:\n",
    "                print(\"✅ API 호출은 성공했으나, 알 수 없는 오류가 발생했습니다.\")\n",
    "                print(f\"오류 코드: {error_code}, 메시지: {message}\")\n",
    "        else:\n",
    "            print(\"🎉 API 키가 유효합니다! API 호출에 성공했습니다.\")\n",
    "            # 성공 응답 데이터 일부 출력\n",
    "            boxoffice_list = data.get('boxOfficeResult', {}).get('dailyBoxOfficeList', [])\n",
    "            if boxoffice_list:\n",
    "                print(f\"첫 번째 영화: {boxoffice_list[0]['movieNm']}\")\n",
    "            \n",
    "    else:\n",
    "        print(f\"❌ API 호출에 실패했습니다. HTTP 상태 코드: {response.status_code}\")\n",
    "        print(\"API 키를 다시 확인해주세요.\")\n",
    "\n",
    "except requests.exceptions.RequestException as e:\n",
    "    print(f\"❌ 요청 중 오류 발생: {e}\")\n",
    "    print(\"네트워크 연결 또는 URL을 확인해주세요.\")"
   ]
  },
  {
   "cell_type": "code",
   "execution_count": 5,
   "id": "4c2dcb6b",
   "metadata": {},
   "outputs": [
    {
     "name": "stdout",
     "output_type": "stream",
     "text": [
      "이번 배치: 200편 / 남은 2849편\n"
     ]
    },
    {
     "name": "stderr",
     "output_type": "stream",
     "text": [
      "movieInfo + merge (KR only): 100%|██████████| 200/200 [01:39<00:00,  2.00it/s]"
     ]
    },
    {
     "name": "stdout",
     "output_type": "stream",
     "text": [
      "✅ 저장: ./data_processed/kobis_weekly_final.csv (rows=449)\n"
     ]
    },
    {
     "name": "stderr",
     "output_type": "stream",
     "text": [
      "\n"
     ]
    }
   ],
   "source": [
    "# kobis_weekly_to_tmdb_csv.py\n",
    "# -*- coding: utf-8 -*-\n",
    "\"\"\"\n",
    "2005-01-01 ~ 2025-12-31\n",
    "KOBIS(=KOFIC OpenAPI)에서 '주간 박스오피스 Top10에 한 번이라도 등장'한 영화만 선별\n",
    "→ 한국 제작만 필터 → TMDB 스타일 스키마 CSV 생성\n",
    "(revenue = 국내 최종 누적매출, audience_total = 국내 최종 누적관객)\n",
    "\n",
    "출력 열 순서:\n",
    "movie_id,title,original_title,original_language,release_date,runtime,budget,\n",
    "revenue,vote_average,vote_count,popularity,genres,production_companies,\n",
    "production_countries,release_year,release_month,audience_total\n",
    "\"\"\"\n",
    "\n",
    "import os, time, json, requests\n",
    "import pandas as pd\n",
    "import numpy as np\n",
    "from datetime import date, datetime, timedelta\n",
    "from urllib.parse import urlencode\n",
    "from tqdm import tqdm\n",
    "from dotenv import load_dotenv\n",
    "\n",
    "# ========= 기간/경로 설정 =========\n",
    "START = date(2005, 1, 1)\n",
    "END   = date(2025,12,31)\n",
    "\n",
    "OUT_DIR       = \"./data_processed\"\n",
    "WEEKLY_PICKLE = f\"{OUT_DIR}/kobis_weekly_pool.pkl\"      # 주간 스캔 결과 캐시\n",
    "OUT_PARTIAL   = f\"{OUT_DIR}/kobis_weekly_partial.csv\"   # 메타 누적(재시작용)\n",
    "OUT_FINAL     = f\"{OUT_DIR}/kobis_weekly_final.csv\"     # 최종 TMDB형\n",
    "\n",
    "# 하루에 처리할 movieInfo 개수(쿼터 따라 조정)\n",
    "MOVIES_PER_RUN = 200\n",
    "\n",
    "# 요청/재시도\n",
    "TIMEOUT = 20\n",
    "RETRY   = 3\n",
    "SLEEP   = 0.12\n",
    "\n",
    "# ========= 인증 =========\n",
    "load_dotenv()\n",
    "KOBIS_KEY = os.getenv(\"KOFIC_API_KEY\") or os.getenv(\"KOBIS_KEY\")\n",
    "BASE = \"https://www.kobis.or.kr/kobisopenapi/webservice/rest\"\n",
    "os.makedirs(OUT_DIR, exist_ok=True)\n",
    "\n",
    "# ========= 공통 HTTP =========\n",
    "def kobis_get(path, params, retry=RETRY):\n",
    "    q = {\"key\": KOBIS_KEY, **params}\n",
    "    url = f\"{BASE}{path}.json?{urlencode(q)}\"\n",
    "    last = None\n",
    "    for i in range(retry):\n",
    "        try:\n",
    "            r = requests.get(url, timeout=TIMEOUT)\n",
    "            if r.status_code in (429,500,502,503,504):\n",
    "                time.sleep(min(2**i,8)); continue\n",
    "            r.raise_for_status()\n",
    "            data = r.json()\n",
    "            if data.get(\"faultInfo\"):\n",
    "                fi = data[\"faultInfo\"]\n",
    "                raise RuntimeError(f\"KOBIS fault: {fi.get('message')} (code={fi.get('errorCode')})\\nURL: {url}\")\n",
    "            time.sleep(SLEEP)\n",
    "            return data\n",
    "        except Exception as e:\n",
    "            last = e\n",
    "            if i == retry-1: raise\n",
    "            time.sleep(min(2**i,8))\n",
    "    raise RuntimeError(last)\n",
    "\n",
    "# ========= 유틸 =========\n",
    "def sundays(start: date, end: date):\n",
    "    # start 기준 그 주 일요일(weekGb=0 사용)\n",
    "    s = start + timedelta(days=(6 - start.weekday()))\n",
    "    while s <= end:\n",
    "        yield s\n",
    "        s += timedelta(days=7)\n",
    "\n",
    "def to_iso_from_yyyymmdd(s):\n",
    "    if not s: return pd.NA\n",
    "    s = str(s)\n",
    "    return f\"{s[:4]}-{s[4:6]}-{s[6:]}\" if len(s) >= 8 else pd.NA\n",
    "\n",
    "def json_list_str(xs):\n",
    "    if xs is None: return \"[]\"\n",
    "    if isinstance(xs, list): return json.dumps(xs, ensure_ascii=False)\n",
    "    return json.dumps([str(xs)], ensure_ascii=False)\n",
    "\n",
    "# ========= 1) 주간 Top10 스캔: 등장 영화 + 최종 누적 =========\n",
    "def weekly_scan():\n",
    "    \"\"\"\n",
    "    주간 박스오피스(Top10) 전체 주차 스캔 → movieCd별 최댓값 누적매출/관객 및 기본 정보 모음\n",
    "    반환: dict[movieCd] = {max_sales, max_audi, movieNm, openDt, weeks}\n",
    "    \"\"\"\n",
    "    pool = {}  # movieCd -> dict\n",
    "    for s in tqdm(list(sundays(START, END)), desc=\"Weekly scan (Top10)\"):\n",
    "        js = kobis_get(\"/boxoffice/searchWeeklyBoxOfficeList\",\n",
    "                       {\"targetDt\": s.strftime(\"%Y%m%d\"), \"weekGb\": \"0\"})\n",
    "        items = js.get(\"boxOfficeResult\",{}).get(\"weeklyBoxOfficeList\",[]) or []\n",
    "        for it in items:\n",
    "            cd  = it.get(\"movieCd\")\n",
    "            if not cd: continue\n",
    "            nm  = it.get(\"movieNm\")\n",
    "            odt = it.get(\"openDt\")  # yyyymmdd\n",
    "            salesAcc = pd.to_numeric(it.get(\"salesAcc\"), errors=\"coerce\") or 0\n",
    "            audiAcc  = pd.to_numeric(it.get(\"audiAcc\"),  errors=\"coerce\") or 0\n",
    "            rec = pool.get(cd, {\"max_sales\":0, \"max_audi\":0, \"movieNm\":nm, \"openDt\":odt, \"weeks\":0})\n",
    "            rec[\"max_sales\"] = max(rec[\"max_sales\"], salesAcc)\n",
    "            rec[\"max_audi\"]  = max(rec[\"max_audi\"],  audiAcc)\n",
    "            rec[\"weeks\"]     = rec[\"weeks\"] + 1\n",
    "            if not rec.get(\"movieNm\"):  rec[\"movieNm\"] = nm\n",
    "            if not rec.get(\"openDt\"):   rec[\"openDt\"]  = odt\n",
    "            pool[cd] = rec\n",
    "    pd.to_pickle(pool, WEEKLY_PICKLE)\n",
    "    return pool\n",
    "\n",
    "# ========= 2) movieInfo 메타(한국 제작 필터) + TMDB 스키마로 변환 =========\n",
    "def fetch_movie_info(cd: str):\n",
    "    js = kobis_get(\"/movie/searchMovieInfo\", {\"movieCd\": cd})\n",
    "    return js.get(\"movieInfoResult\",{}).get(\"movieInfo\",{}) or {}\n",
    "\n",
    "def is_korean_production(info) -> bool:\n",
    "    nations = [n.get(\"nationNm\") for n in (info.get(\"nations\") or []) if n.get(\"nationNm\")]\n",
    "    return any(str(n).strip() in {\"한국\",\"대한민국\",\"Korea\",\"South Korea\",\"Republic of Korea\"} for n in nations)\n",
    "\n",
    "def to_tmdb_row(cd, pool_rec, info):\n",
    "    movieNm   = info.get(\"movieNm\") or pool_rec.get(\"movieNm\")\n",
    "    movieNmEn = info.get(\"movieNmEn\") or movieNm\n",
    "    openDt    = info.get(\"openDt\") or pool_rec.get(\"openDt\")\n",
    "    iso       = to_iso_from_yyyymmdd(openDt)\n",
    "    dt        = pd.to_datetime(iso, errors=\"coerce\") if pd.notna(iso) else pd.NaT\n",
    "\n",
    "    showTm    = pd.to_numeric(info.get(\"showTm\"), errors=\"coerce\")\n",
    "    genres    = [g.get(\"genreNm\")   for g in (info.get(\"genres\")   or []) if g.get(\"genreNm\")]\n",
    "    companies = [c.get(\"companyNm\") for c in (info.get(\"companys\") or []) if c.get(\"companyNm\")]\n",
    "\n",
    "    return {\n",
    "        \"movie_id\": cd,\n",
    "        \"title\": movieNm,\n",
    "        \"original_title\": movieNmEn,\n",
    "        \"original_language\": \"ko\",\n",
    "        \"release_date\": iso,\n",
    "        \"runtime\": showTm,\n",
    "        \"budget\": pd.NA,\n",
    "        \"revenue\": float(pool_rec[\"max_sales\"]),       # 국내 최종 누적매출(원)\n",
    "        \"vote_average\": pd.NA,\n",
    "        \"vote_count\": pd.NA,\n",
    "        \"popularity\": pd.NA,\n",
    "        \"genres\": json_list_str(genres),\n",
    "        \"production_companies\": json_list_str(companies),\n",
    "        \"production_countries\": json_list_str([\"KR\"]),\n",
    "        \"release_year\": (dt.year  if pd.notna(dt) else pd.NA),\n",
    "        \"release_month\": (dt.month if pd.notna(dt) else pd.NA),\n",
    "        \"audience_total\": float(pool_rec[\"max_audi\"]), # 국내 최종 누적관객\n",
    "    }\n",
    "\n",
    "# ========= 3) 실행(재시작 가능) =========\n",
    "def main():\n",
    "    if not KOBIS_KEY:\n",
    "        raise SystemExit(\"❌ .env에 KOFIC_API_KEY(=KOBIS_KEY)가 없습니다.\")\n",
    "\n",
    "    # 1) 주간 스캔(캐시 활용)\n",
    "    if os.path.exists(WEEKLY_PICKLE):\n",
    "        pool = pd.read_pickle(WEEKLY_PICKLE)\n",
    "    else:\n",
    "        pool = weekly_scan()\n",
    "\n",
    "    # 주간에 한 번이라도 잡힌 영화만(=누적매출 추적 가능)\n",
    "    candidates = [cd for cd, rec in pool.items() if rec.get(\"max_sales\",0) > 0]\n",
    "\n",
    "    # 2) 이미 수집한 partial 읽기(재시작)\n",
    "    done = set()\n",
    "    if os.path.exists(OUT_PARTIAL):\n",
    "        prev = pd.read_csv(OUT_PARTIAL, dtype=str)\n",
    "        if \"movie_id\" in prev.columns:\n",
    "            done = set(prev[\"movie_id\"].astype(str).tolist())\n",
    "\n",
    "    todo = [cd for cd in candidates if cd not in done]\n",
    "    if not todo:\n",
    "        print(\"✅ 모두 처리됨. 최종 파일만 정리합니다.\")\n",
    "    else:\n",
    "        batch = todo[:MOVIES_PER_RUN]\n",
    "        print(f\"이번 배치: {len(batch)}편 / 남은 {len(todo)-len(batch)}편\")\n",
    "\n",
    "        rows = []\n",
    "        for cd in tqdm(batch, desc=\"movieInfo + merge (KR only)\"):\n",
    "            try:\n",
    "                info = fetch_movie_info(cd)\n",
    "                # 한국 제작 필터 + 개봉일(기간 내 안전망)\n",
    "                if not is_korean_production(info):\n",
    "                    continue\n",
    "                odt = info.get(\"openDt\") or pool[cd].get(\"openDt\")\n",
    "                if not odt or len(str(odt)) != 8:\n",
    "                    continue\n",
    "                # 기간 안전망 (열린 날짜 기준)\n",
    "                y, m, d = int(odt[:4]), int(odt[4:6]), int(odt[6:8])\n",
    "                opened = date(y,m,d)\n",
    "                if opened < START or opened > END:\n",
    "                    continue\n",
    "\n",
    "                row = to_tmdb_row(cd, pool[cd], info)\n",
    "                rows.append(row)\n",
    "            except Exception as e:\n",
    "                print(\"skip\", cd, e)\n",
    "\n",
    "        if rows:\n",
    "            df = pd.DataFrame(rows)\n",
    "            header = not os.path.exists(OUT_PARTIAL)\n",
    "            df.to_csv(OUT_PARTIAL, index=False, mode=(\"w\" if header else \"a\"),\n",
    "                      header=header, encoding=\"utf-8-sig\")\n",
    "\n",
    "    # 3) 최종 정리/저장(TMDB 스키마)\n",
    "    cols = [\"movie_id\",\"title\",\"original_title\",\"original_language\",\"release_date\",\"runtime\",\"budget\",\n",
    "            \"revenue\",\"vote_average\",\"vote_count\",\"popularity\",\"genres\",\"production_companies\",\n",
    "            \"production_countries\",\"release_year\",\"release_month\",\"audience_total\"]\n",
    "\n",
    "    part = pd.read_csv(OUT_PARTIAL, dtype=str) if os.path.exists(OUT_PARTIAL) else pd.DataFrame(columns=cols)\n",
    "    if not part.empty:\n",
    "        part[\"release_year\"]   = pd.to_numeric(part[\"release_year\"], errors=\"coerce\").astype(\"Int64\")\n",
    "        part[\"release_month\"]  = pd.to_numeric(part[\"release_month\"], errors=\"coerce\").astype(\"Int64\")\n",
    "        part[\"runtime\"]        = pd.to_numeric(part[\"runtime\"], errors=\"coerce\")\n",
    "        part[\"revenue\"]        = pd.to_numeric(part[\"revenue\"], errors=\"coerce\")\n",
    "        part[\"audience_total\"] = pd.to_numeric(part[\"audience_total\"], errors=\"coerce\")\n",
    "        part = part.drop_duplicates(subset=[\"movie_id\"]).sort_values([\"release_year\",\"release_month\",\"title\"])\n",
    "\n",
    "    part.reindex(columns=cols).to_csv(OUT_FINAL, index=False, encoding=\"utf-8-sig\")\n",
    "    print(f\"✅ 저장: {OUT_FINAL} (rows={len(part):,})\")\n",
    "\n",
    "if __name__ == \"__main__\":\n",
    "    main()\n"
   ]
  },
  {
   "cell_type": "code",
   "execution_count": 1,
   "id": "4180b011",
   "metadata": {},
   "outputs": [
    {
     "name": "stderr",
     "output_type": "stream",
     "text": [
      "Weekly scan (Top10): 100%|██████████| 104/104 [01:48<00:00,  1.05s/it]\n"
     ]
    },
    {
     "name": "stdout",
     "output_type": "stream",
     "text": [
      "이번 배치: 274편 / 남은 0편\n"
     ]
    },
    {
     "name": "stderr",
     "output_type": "stream",
     "text": [
      "movieInfo + merge (KR only): 100%|██████████| 274/274 [02:52<00:00,  1.59it/s]"
     ]
    },
    {
     "name": "stdout",
     "output_type": "stream",
     "text": [
      "✅ 저장: ./data_processed/kobis_weekly_final_2024.csv (rows=97)\n"
     ]
    },
    {
     "name": "stderr",
     "output_type": "stream",
     "text": [
      "\n"
     ]
    }
   ],
   "source": [
    "# kobis_weekly_to_tmdb_csv.py\n",
    "# -*- coding: utf-8 -*-\n",
    "\"\"\"\n",
    "2005-01-01 ~ 2025-12-31\n",
    "KOBIS(=KOFIC OpenAPI)에서 '주간 박스오피스 Top10에 한 번이라도 등장'한 영화만 선별\n",
    "→ 한국 제작만 필터 → TMDB 스타일 스키마 CSV 생성\n",
    "(revenue = 국내 최종 누적매출, audience_total = 국내 최종 누적관객)\n",
    "\n",
    "출력 열 순서:\n",
    "movie_id,title,original_title,original_language,release_date,runtime,budget,\n",
    "revenue,vote_average,vote_count,popularity,genres,production_companies,\n",
    "production_countries,release_year,release_month,audience_total\n",
    "\"\"\"\n",
    "\n",
    "import os, time, json, requests\n",
    "import pandas as pd\n",
    "import numpy as np\n",
    "from datetime import date, datetime, timedelta\n",
    "from urllib.parse import urlencode\n",
    "from tqdm import tqdm\n",
    "from dotenv import load_dotenv\n",
    "\n",
    "# ========= 기간/경로 설정 =========\n",
    "START = date(2024, 1, 1)\n",
    "END   = date(2025,12,31)\n",
    "\n",
    "OUT_DIR       = \"./data_processed\"\n",
    "WEEKLY_PICKLE = f\"{OUT_DIR}/kobis_weekly_pool.pkl\"      # 주간 스캔 결과 캐시\n",
    "OUT_PARTIAL   = f\"{OUT_DIR}/kobis_weekly_partial.csv\"   # 메타 누적(재시작용)\n",
    "OUT_FINAL     = f\"{OUT_DIR}/kobis_weekly_final_2024.csv\"     # 최종 TMDB형\n",
    "\n",
    "# 하루에 처리할 movieInfo 개수(쿼터 따라 조정)\n",
    "MOVIES_PER_RUN = 800\n",
    "\n",
    "# 요청/재시도\n",
    "TIMEOUT = 20\n",
    "RETRY   = 3\n",
    "SLEEP   = 0.12\n",
    "\n",
    "# ========= 인증 =========\n",
    "load_dotenv()\n",
    "KOBIS_KEY = os.getenv(\"KOFIC_API_KEY\") or os.getenv(\"KOBIS_KEY\")\n",
    "BASE = \"https://www.kobis.or.kr/kobisopenapi/webservice/rest\"\n",
    "os.makedirs(OUT_DIR, exist_ok=True)\n",
    "\n",
    "# ========= 공통 HTTP =========\n",
    "def kobis_get(path, params, retry=RETRY):\n",
    "    q = {\"key\": KOBIS_KEY, **params}\n",
    "    url = f\"{BASE}{path}.json?{urlencode(q)}\"\n",
    "    last = None\n",
    "    for i in range(retry):\n",
    "        try:\n",
    "            r = requests.get(url, timeout=TIMEOUT)\n",
    "            if r.status_code in (429,500,502,503,504):\n",
    "                time.sleep(min(2**i,8)); continue\n",
    "            r.raise_for_status()\n",
    "            data = r.json()\n",
    "            if data.get(\"faultInfo\"):\n",
    "                fi = data[\"faultInfo\"]\n",
    "                raise RuntimeError(f\"KOBIS fault: {fi.get('message')} (code={fi.get('errorCode')})\\nURL: {url}\")\n",
    "            time.sleep(SLEEP)\n",
    "            return data\n",
    "        except Exception as e:\n",
    "            last = e\n",
    "            if i == retry-1: raise\n",
    "            time.sleep(min(2**i,8))\n",
    "    raise RuntimeError(last)\n",
    "\n",
    "# ========= 유틸 =========\n",
    "def sundays(start: date, end: date):\n",
    "    # start 기준 그 주 일요일(weekGb=0 사용)\n",
    "    s = start + timedelta(days=(6 - start.weekday()))\n",
    "    while s <= end:\n",
    "        yield s\n",
    "        s += timedelta(days=7)\n",
    "\n",
    "def to_iso_from_yyyymmdd(s):\n",
    "    if not s: return pd.NA\n",
    "    s = str(s)\n",
    "    return f\"{s[:4]}-{s[4:6]}-{s[6:]}\" if len(s) >= 8 else pd.NA\n",
    "\n",
    "def json_list_str(xs):\n",
    "    if xs is None: return \"[]\"\n",
    "    if isinstance(xs, list): return json.dumps(xs, ensure_ascii=False)\n",
    "    return json.dumps([str(xs)], ensure_ascii=False)\n",
    "\n",
    "# ========= 1) 주간 Top10 스캔: 등장 영화 + 최종 누적 =========\n",
    "def weekly_scan():\n",
    "    \"\"\"\n",
    "    주간 박스오피스(Top10) 전체 주차 스캔 → movieCd별 최댓값 누적매출/관객 및 기본 정보 모음\n",
    "    반환: dict[movieCd] = {max_sales, max_audi, movieNm, openDt, weeks}\n",
    "    \"\"\"\n",
    "    pool = {}  # movieCd -> dict\n",
    "    for s in tqdm(list(sundays(START, END)), desc=\"Weekly scan (Top10)\"):\n",
    "        js = kobis_get(\"/boxoffice/searchWeeklyBoxOfficeList\",\n",
    "                       {\"targetDt\": s.strftime(\"%Y%m%d\"), \"weekGb\": \"0\"})\n",
    "        items = js.get(\"boxOfficeResult\",{}).get(\"weeklyBoxOfficeList\",[]) or []\n",
    "        for it in items:\n",
    "            cd  = it.get(\"movieCd\")\n",
    "            if not cd: continue\n",
    "            nm  = it.get(\"movieNm\")\n",
    "            odt = it.get(\"openDt\")  # yyyymmdd\n",
    "            salesAcc = pd.to_numeric(it.get(\"salesAcc\"), errors=\"coerce\") or 0\n",
    "            audiAcc  = pd.to_numeric(it.get(\"audiAcc\"),  errors=\"coerce\") or 0\n",
    "            rec = pool.get(cd, {\"max_sales\":0, \"max_audi\":0, \"movieNm\":nm, \"openDt\":odt, \"weeks\":0})\n",
    "            rec[\"max_sales\"] = max(rec[\"max_sales\"], salesAcc)\n",
    "            rec[\"max_audi\"]  = max(rec[\"max_audi\"],  audiAcc)\n",
    "            rec[\"weeks\"]     = rec[\"weeks\"] + 1\n",
    "            if not rec.get(\"movieNm\"):  rec[\"movieNm\"] = nm\n",
    "            if not rec.get(\"openDt\"):   rec[\"openDt\"]  = odt\n",
    "            pool[cd] = rec\n",
    "    pd.to_pickle(pool, WEEKLY_PICKLE)\n",
    "    return pool\n",
    "\n",
    "# ========= 2) movieInfo 메타(한국 제작 필터) + TMDB 스키마로 변환 =========\n",
    "def fetch_movie_info(cd: str):\n",
    "    js = kobis_get(\"/movie/searchMovieInfo\", {\"movieCd\": cd})\n",
    "    return js.get(\"movieInfoResult\",{}).get(\"movieInfo\",{}) or {}\n",
    "\n",
    "def is_korean_production(info) -> bool:\n",
    "    nations = [n.get(\"nationNm\") for n in (info.get(\"nations\") or []) if n.get(\"nationNm\")]\n",
    "    return any(str(n).strip() in {\"한국\",\"대한민국\",\"Korea\",\"South Korea\",\"Republic of Korea\"} for n in nations)\n",
    "\n",
    "def to_tmdb_row(cd, pool_rec, info):\n",
    "    movieNm   = info.get(\"movieNm\") or pool_rec.get(\"movieNm\")\n",
    "    movieNmEn = info.get(\"movieNmEn\") or movieNm\n",
    "    openDt    = info.get(\"openDt\") or pool_rec.get(\"openDt\")\n",
    "    iso       = to_iso_from_yyyymmdd(openDt)\n",
    "    dt        = pd.to_datetime(iso, errors=\"coerce\") if pd.notna(iso) else pd.NaT\n",
    "\n",
    "    showTm    = pd.to_numeric(info.get(\"showTm\"), errors=\"coerce\")\n",
    "    genres    = [g.get(\"genreNm\")   for g in (info.get(\"genres\")   or []) if g.get(\"genreNm\")]\n",
    "    companies = [c.get(\"companyNm\") for c in (info.get(\"companys\") or []) if c.get(\"companyNm\")]\n",
    "\n",
    "    return {\n",
    "        \"movie_id\": cd,\n",
    "        \"title\": movieNm,\n",
    "        \"original_title\": movieNmEn,\n",
    "        \"original_language\": \"ko\",\n",
    "        \"release_date\": iso,\n",
    "        \"runtime\": showTm,\n",
    "        \"budget\": pd.NA,\n",
    "        \"revenue\": float(pool_rec[\"max_sales\"]),       # 국내 최종 누적매출(원)\n",
    "        \"vote_average\": pd.NA,\n",
    "        \"vote_count\": pd.NA,\n",
    "        \"popularity\": pd.NA,\n",
    "        \"genres\": json_list_str(genres),\n",
    "        \"production_companies\": json_list_str(companies),\n",
    "        \"production_countries\": json_list_str([\"KR\"]),\n",
    "        \"release_year\": (dt.year  if pd.notna(dt) else pd.NA),\n",
    "        \"release_month\": (dt.month if pd.notna(dt) else pd.NA),\n",
    "        \"audience_total\": float(pool_rec[\"max_audi\"]), # 국내 최종 누적관객\n",
    "    }\n",
    "\n",
    "# ========= 3) 실행(재시작 가능) =========\n",
    "def main():\n",
    "    if not KOBIS_KEY:\n",
    "        raise SystemExit(\"❌ .env에 KOFIC_API_KEY(=KOBIS_KEY)가 없습니다.\")\n",
    "\n",
    "    # 1) 주간 스캔(캐시 활용)\n",
    "    if os.path.exists(WEEKLY_PICKLE):\n",
    "        pool = pd.read_pickle(WEEKLY_PICKLE)\n",
    "    else:\n",
    "        pool = weekly_scan()\n",
    "\n",
    "    # 주간에 한 번이라도 잡힌 영화만(=누적매출 추적 가능)\n",
    "    candidates = [cd for cd, rec in pool.items() if rec.get(\"max_sales\",0) > 0]\n",
    "\n",
    "    # 2) 이미 수집한 partial 읽기(재시작)\n",
    "    done = set()\n",
    "    if os.path.exists(OUT_PARTIAL):\n",
    "        prev = pd.read_csv(OUT_PARTIAL, dtype=str)\n",
    "        if \"movie_id\" in prev.columns:\n",
    "            done = set(prev[\"movie_id\"].astype(str).tolist())\n",
    "\n",
    "    todo = [cd for cd in candidates if cd not in done]\n",
    "    if not todo:\n",
    "        print(\"✅ 모두 처리됨. 최종 파일만 정리합니다.\")\n",
    "    else:\n",
    "        batch = todo[:MOVIES_PER_RUN]\n",
    "        print(f\"이번 배치: {len(batch)}편 / 남은 {len(todo)-len(batch)}편\")\n",
    "\n",
    "        rows = []\n",
    "        for cd in tqdm(batch, desc=\"movieInfo + merge (KR only)\"):\n",
    "            try:\n",
    "                info = fetch_movie_info(cd)\n",
    "                # 한국 제작 필터 + 개봉일(기간 내 안전망)\n",
    "                if not is_korean_production(info):\n",
    "                    continue\n",
    "                odt = info.get(\"openDt\") or pool[cd].get(\"openDt\")\n",
    "                if not odt or len(str(odt)) != 8:\n",
    "                    continue\n",
    "                # 기간 안전망 (열린 날짜 기준)\n",
    "                y, m, d = int(odt[:4]), int(odt[4:6]), int(odt[6:8])\n",
    "                opened = date(y,m,d)\n",
    "                if opened < START or opened > END:\n",
    "                    continue\n",
    "\n",
    "                row = to_tmdb_row(cd, pool[cd], info)\n",
    "                rows.append(row)\n",
    "            except Exception as e:\n",
    "                print(\"skip\", cd, e)\n",
    "\n",
    "        if rows:\n",
    "            df = pd.DataFrame(rows)\n",
    "            header = not os.path.exists(OUT_PARTIAL)\n",
    "            df.to_csv(OUT_PARTIAL, index=False, mode=(\"w\" if header else \"a\"),\n",
    "                      header=header, encoding=\"utf-8-sig\")\n",
    "\n",
    "    # 3) 최종 정리/저장(TMDB 스키마)\n",
    "    cols = [\"movie_id\",\"title\",\"original_title\",\"original_language\",\"release_date\",\"runtime\",\"budget\",\n",
    "            \"revenue\",\"vote_average\",\"vote_count\",\"popularity\",\"genres\",\"production_companies\",\n",
    "            \"production_countries\",\"release_year\",\"release_month\",\"audience_total\"]\n",
    "\n",
    "    part = pd.read_csv(OUT_PARTIAL, dtype=str) if os.path.exists(OUT_PARTIAL) else pd.DataFrame(columns=cols)\n",
    "    if not part.empty:\n",
    "        part[\"release_year\"]   = pd.to_numeric(part[\"release_year\"], errors=\"coerce\").astype(\"Int64\")\n",
    "        part[\"release_month\"]  = pd.to_numeric(part[\"release_month\"], errors=\"coerce\").astype(\"Int64\")\n",
    "        part[\"runtime\"]        = pd.to_numeric(part[\"runtime\"], errors=\"coerce\")\n",
    "        part[\"revenue\"]        = pd.to_numeric(part[\"revenue\"], errors=\"coerce\")\n",
    "        part[\"audience_total\"] = pd.to_numeric(part[\"audience_total\"], errors=\"coerce\")\n",
    "        part = part.drop_duplicates(subset=[\"movie_id\"]).sort_values([\"release_year\",\"release_month\",\"title\"])\n",
    "\n",
    "    part.reindex(columns=cols).to_csv(OUT_FINAL, index=False, encoding=\"utf-8-sig\")\n",
    "    print(f\"✅ 저장: {OUT_FINAL} (rows={len(part):,})\")\n",
    "\n",
    "if __name__ == \"__main__\":\n",
    "    main()\n"
   ]
  }
 ],
 "metadata": {
  "kernelspec": {
   "display_name": "venv",
   "language": "python",
   "name": "python3"
  },
  "language_info": {
   "codemirror_mode": {
    "name": "ipython",
    "version": 3
   },
   "file_extension": ".py",
   "mimetype": "text/x-python",
   "name": "python",
   "nbconvert_exporter": "python",
   "pygments_lexer": "ipython3",
   "version": "3.13.2"
  }
 },
 "nbformat": 4,
 "nbformat_minor": 5
}
