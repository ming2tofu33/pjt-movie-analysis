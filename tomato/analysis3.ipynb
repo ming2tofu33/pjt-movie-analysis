{
 "cells": [
  {
   "cell_type": "markdown",
   "id": "42c19113",
   "metadata": {},
   "source": [
    "## 과제 3: 배우/감독 네트워크 분석 및 성공 패턴 발견\n",
    "주요 배우와 감독들의 협업 관계를 네트워크로 시각화하고, 성공적인 콜라보레이션 패턴을 발견하여 캐스팅 전략에 대한 인사이트를 도출하세요.\n",
    "자유 주제\n",
    "영화 산업의 미래를 예측할 수 있는 새로운 관점에서 데이터를 분석하고, 영화 제작사나 투자자에게 유용한 인사이트를 자유롭게 제시하세요."
   ]
  },
  {
   "cell_type": "code",
   "execution_count": null,
   "id": "cc84a45a",
   "metadata": {
    "vscode": {
     "languageId": "plaintext"
    }
   },
   "outputs": [],
   "source": []
  }
 ],
 "metadata": {
  "language_info": {
   "name": "python"
  }
 },
 "nbformat": 4,
 "nbformat_minor": 5
}
