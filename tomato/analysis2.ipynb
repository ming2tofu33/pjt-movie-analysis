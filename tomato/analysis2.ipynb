{
 "cells": [
  {
   "cell_type": "markdown",
   "id": "0f6a6003",
   "metadata": {},
   "source": [
    "## 과제 2: 영화 평점과 흥행 수익 간의 상관관계 분석\n",
    "사용자 평점, 비평가 평점, 박스오피스 수익 간의 관계를 분석하고, 평점이 높지만 흥행하지 못한 영화와 평점은 낮지만 흥행한 영화들의 특성을 비교 분석하세요."
   ]
  },
  {
   "cell_type": "code",
   "execution_count": null,
   "id": "3e25ee00",
   "metadata": {},
   "outputs": [],
   "source": []
  }
 ],
 "metadata": {
  "language_info": {
   "name": "python"
  }
 },
 "nbformat": 4,
 "nbformat_minor": 5
}
